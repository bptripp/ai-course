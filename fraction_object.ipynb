{
  "nbformat": 4,
  "nbformat_minor": 0,
  "metadata": {
    "colab": {
      "provenance": [],
      "include_colab_link": true
    },
    "kernelspec": {
      "name": "python3",
      "display_name": "Python 3"
    },
    "language_info": {
      "name": "python"
    }
  },
  "cells": [
    {
      "cell_type": "markdown",
      "metadata": {
        "id": "view-in-github",
        "colab_type": "text"
      },
      "source": [
        "<a href=\"https://colab.research.google.com/github/bptripp/ai-course/blob/main/fraction_object.ipynb\" target=\"_parent\"><img src=\"https://colab.research.google.com/assets/colab-badge.svg\" alt=\"Open In Colab\"/></a>"
      ]
    },
    {
      "cell_type": "code",
      "execution_count": 5,
      "metadata": {
        "id": "6-5BJrHQK145"
      },
      "outputs": [],
      "source": [
        "class Fraction():\n",
        "  def __init__(self, numerator, denominator):\n",
        "    self.numerator = numerator\n",
        "    self.denominator = denominator\n",
        "\n",
        "  def print_as_fraction(self):\n",
        "    print('{}/{}'.format(self.numerator, self.denominator))\n",
        "\n",
        "  def print_as_decimal(self):\n",
        "    print(self.numerator/self.denominator)"
      ]
    },
    {
      "cell_type": "code",
      "source": [
        "three_quarters = Fraction(3, 4)\n",
        "three_quarters.print_as_fraction()\n",
        "three_quarters.print_as_decimal()"
      ],
      "metadata": {
        "id": "H4uTKqNnlJYf",
        "outputId": "7c20decd-e037-4507-8dd1-79a081319a6e",
        "colab": {
          "base_uri": "https://localhost:8080/"
        }
      },
      "execution_count": 7,
      "outputs": [
        {
          "output_type": "stream",
          "name": "stdout",
          "text": [
            "3/4\n",
            "0.75\n"
          ]
        }
      ]
    }
  ]
}