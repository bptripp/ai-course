{
  "nbformat": 4,
  "nbformat_minor": 0,
  "metadata": {
    "colab": {
      "provenance": [],
      "include_colab_link": true
    },
    "kernelspec": {
      "name": "python3",
      "display_name": "Python 3"
    },
    "language_info": {
      "name": "python"
    }
  },
  "cells": [
    {
      "cell_type": "markdown",
      "metadata": {
        "id": "view-in-github",
        "colab_type": "text"
      },
      "source": [
        "<a href=\"https://colab.research.google.com/github/bptripp/ai-course/blob/main/python_introduction.ipynb\" target=\"_parent\"><img src=\"https://colab.research.google.com/assets/colab-badge.svg\" alt=\"Open In Colab\"/></a>"
      ]
    },
    {
      "cell_type": "markdown",
      "source": [
        "#Introduction to Python Programming\n",
        "AI practitioners mainly work by writing computer software. Software is written in a programming language, which is a set of keywords and syntax rules that help people formulate instructions that computers can carry out.\n",
        "\n",
        "The most commonly used language for machine learning (ML) is called Python.\n",
        "\n",
        "Many Python programmers prototype their software using interactive web-based programming interfaces called \"notebooks\", like the one you are currently reading. A notebook consists of \"cells\", some of which contain text (like this one), and some of which contain software, or \"code\", like the next one. You can run the code in a cell by clicking the play button (the triangle).\n",
        "\n",
        "*Hover your cursor over the cell below to reveal the play button. Click the play button to run the code in the cell. You may see a warning that the code was not authored by Google, which operates this web service for code notebooks. If you see that warning, click \"Run anyway\". You may also be asked to sign in to a Google account. If you do not have a Google or Gmail account, then you can still read this and other notebooks in this course, but you will not be able to run their code. If you like, you can easily create a Google account now by following the sign-in link and clicking \"Create account\".*\n",
        "\n",
        "Note: The first time you run code in a notebook it may take a few seconds to start running, so be patient. You should see a green check mark on the left once it is finished."
      ],
      "metadata": {
        "id": "Y5qXqetjVFay"
      }
    },
    {
      "cell_type": "code",
      "execution_count": 1,
      "metadata": {
        "colab": {
          "base_uri": "https://localhost:8080/"
        },
        "id": "hq79ZNprVBqr",
        "outputId": "3ce8a3a8-0fff-485b-890b-86fc0a398481"
      },
      "outputs": [
        {
          "output_type": "stream",
          "name": "stdout",
          "text": [
            "Hello\n"
          ]
        }
      ],
      "source": [
        "print('Hello')"
      ]
    },
    {
      "cell_type": "markdown",
      "source": [
        "Now that you know how to run the code, you can begin to experiment with it.\n",
        "\n",
        "*Change the text inside the quotes and run the cell again.*\n",
        "\n",
        "This code should print whatever text you entered between the single quotes. For example, if you change the text to, 'Hello, John' then it will print, 'Hello, John'.\n",
        "\n",
        "Depending on the text you enter, you might see a longer message that describes an error. For example, if you change the text to 'Hello, John's brother', Python will interpret the apostrophe as the end of the text, and interpret the rest of the line as nonsense. Try that now.\n",
        "\n",
        "*Change the text to 'Hello, John’s brother' and run the code.*\n",
        "\n",
        "There is no reasoning with a programming language. You have to follow its rules exactly. If you really want to print, 'Hello, John's brother', one way to do that is to enter the text, 'Hello, John\\\\'s brother'. Little details like this are common and quickly become second nature.\n",
        "\n",
        "Programming languages can also deal with numbers.\n",
        "\n",
        "*Click the play button to run the example in the cell below to use Python as a calculator.*\n",
        "\n"
      ],
      "metadata": {
        "id": "nEQCCWk8ZOIk"
      }
    },
    {
      "cell_type": "code",
      "source": [
        "print(32+17)"
      ],
      "metadata": {
        "colab": {
          "base_uri": "https://localhost:8080/"
        },
        "id": "Vz2BqpbQeACg",
        "outputId": "b62b7d3f-10fa-4be6-8608-e386c50529ad"
      },
      "execution_count": null,
      "outputs": [
        {
          "output_type": "stream",
          "name": "stdout",
          "text": [
            "49\n"
          ]
        }
      ]
    },
    {
      "cell_type": "markdown",
      "source": [
        "When working with text, numbers, or other kinds of data, it is usually helpful to assign the data to a named variable (as one does in mathematics). Let's see how that is done."
      ],
      "metadata": {
        "id": "bjI0PWUBeqsT"
      }
    },
    {
      "cell_type": "code",
      "source": [
        "# the next three lines of code add two numbers using variables\n",
        "x = 32\n",
        "y = 17\n",
        "print(x+y)"
      ],
      "metadata": {
        "colab": {
          "base_uri": "https://localhost:8080/"
        },
        "id": "bORW_yzdfK4X",
        "outputId": "9dc24ae6-34ca-4ee6-dfa7-28f8681f45a9"
      },
      "execution_count": null,
      "outputs": [
        {
          "output_type": "stream",
          "name": "stdout",
          "text": [
            "49\n"
          ]
        }
      ]
    },
    {
      "cell_type": "markdown",
      "source": [
        "Note: The first line in the code above is called a \"comment\". The computer ignores comments (specifically, any text from the # symbol to the end of the line). Comments are messages from one programmer to another to explain what code does or why it is written a certain way.\n",
        "\n",
        "Making a computer do something useful often requires millions of lines of code. For this reason, programmers try to organize their code into chunks that can be re-used for many different purposes, and they share these chunks with each other to make the whole field more efficient and productive. The most basic kind of \"chunk\" of code is called a function. To put Python code in a function, one writes a special line that announces the beginning of the function, and then indents whatever lines of code after that are supposed to be part of the function. The function can then be \"called\" by name from other parts of the code. Let's see an example."
      ],
      "metadata": {
        "id": "dhTcqRVRfQaE"
      }
    },
    {
      "cell_type": "code",
      "source": [
        "def print_sum():\n",
        "  x = 32\n",
        "  y = 17\n",
        "  print(x+y)\n",
        "\n",
        "print('hello')\n",
        "print_sum()\n"
      ],
      "metadata": {
        "colab": {
          "base_uri": "https://localhost:8080/"
        },
        "id": "biepaDKngy2U",
        "outputId": "fb963a98-f8f9-433e-9fb5-668b76e3aae4"
      },
      "execution_count": null,
      "outputs": [
        {
          "output_type": "stream",
          "name": "stdout",
          "text": [
            "hello\n",
            "49\n"
          ]
        }
      ]
    },
    {
      "cell_type": "markdown",
      "source": [
        "The keyword \"def\" above is shorthand for \"define function\". The function's name is \"print_sum\". The code can be read as: define the function “print_sum” which has variables  x equal to 32 and y equal to 17 and prints the sum of x and y. A function's name has no effect on what the function does, but programmers try to choose descriptive function names for clarity. To make functions re-usable for a wider range of purposes, programmers often define them with parameters. Different parameter values can be given to the function each time it is called, as in the example below."
      ],
      "metadata": {
        "id": "A-3_miskhEk8"
      }
    },
    {
      "cell_type": "code",
      "source": [
        "def print_sum(x, y):\n",
        "  print(x+y)\n",
        "\n",
        "print_sum(32, 17)\n",
        "print_sum(32, 18)\n"
      ],
      "metadata": {
        "colab": {
          "base_uri": "https://localhost:8080/"
        },
        "id": "AhieSTomiMb6",
        "outputId": "e73635ed-ea4e-4dc3-8dd3-14937d62a07e"
      },
      "execution_count": null,
      "outputs": [
        {
          "output_type": "stream",
          "name": "stdout",
          "text": [
            "49\n",
            "50\n"
          ]
        }
      ]
    },
    {
      "cell_type": "markdown",
      "source": [
        "Programmers often group related functions into \"packages\". Packages can be distributed online and used by other programmers. Non-programmers are often surprised to learn that programmers typically call functions in packages without reading the code inside the functions. They instead rely on separate documentation to understand what parameters they can provide and what they can expect a function to do. This approach limits programmers' understanding the foundations on which they build. But it is the only practical way forward, because the foundations are usually intricate and extensive.\n",
        "\n",
        "The vast majority of ML work involves \"importing\" packages that contain ML algorithms. Practitioners try to avoid writing code that does the detailed work of ML, preferring wherever possible to call functions that someone else has already written. This is faster, and it leads to fewer errors. Widely used functions tend to be written by leading experts, and when they contain errors, someone is likely to notice quickly.\n",
        "\n",
        "In this course you will see examples that use popular ML packages including \"scikit-learn\" and \"torch\".\n",
        "\n",
        "*If you are curious, click the links to find more information about these packages:*\n",
        "\n",
        "https://scikit-learn.org/stable/\n",
        "\n",
        "https://pytorch.org/\n",
        "\n",
        "For now, let's just import these packages. Running these import statements will take a few seconds and won't produce any output, but importing packages like this is essential to most AI work.\n",
        "\n",
        "*Click the play button to import the scikit-learn and torch packages.*"
      ],
      "metadata": {
        "id": "YY0QBxlXiZMr"
      }
    },
    {
      "cell_type": "code",
      "source": [
        "import sklearn\n",
        "import torch"
      ],
      "metadata": {
        "id": "FsN8Hng3khuz"
      },
      "execution_count": null,
      "outputs": []
    },
    {
      "cell_type": "markdown",
      "source": [
        "You will pick up a few more details about Python programming as you go, but that is enough for now. If you would like to try Python programming yourself, there are many resources online.\n",
        "\n",
        "*For your interest, click the link to review additional introductory points covered as optional material here:*\n",
        "\n",
        "https://colab.research.google.com/github/bptripp/ai-course/blob/main/optional_python_material.ipynb"
      ],
      "metadata": {
        "id": "WqW-E2lbs7aH"
      }
    }
  ]
}