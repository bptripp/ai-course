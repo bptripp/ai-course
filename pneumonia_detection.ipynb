{
  "cells": [
    {
      "cell_type": "markdown",
      "metadata": {
        "id": "view-in-github",
        "colab_type": "text"
      },
      "source": [
        "<a href=\"https://colab.research.google.com/github/bptripp/ai-course/blob/main/pneumonia_detection.ipynb\" target=\"_parent\"><img src=\"https://colab.research.google.com/assets/colab-badge.svg\" alt=\"Open In Colab\"/></a>"
      ]
    },
    {
      "cell_type": "markdown",
      "metadata": {
        "id": "NgKJv6ABfCPZ"
      },
      "source": [
        "# Transfer learning with a convolutional network\n",
        "In this activity we will use a convolutional network for detection of pneumonia in chest radiographs. This is a more difficult task than classifying digits, so it will require a larger network. \n",
        "\n",
        "Training such a network from scratch would take several days, and it would require a large number of labelled examples. However, we can often get away with less training and less data if we begin with a network that has already been trained for a related task. \n",
        "\n",
        "For vision tasks, it is common to begin with a network that has been trained on ImageNet-1K, a dataset of over a million images of objects that are labelled with 1000 categories, including different kinds of animals, vehicles, etc. \n",
        "\n",
        "Detecting pneumonia in chest radiographs is quite different, even in terms of image statistics, so it is not clear in advance how well this approach will work for this use case, but we will see that it works reasonably well. \n",
        "\n",
        "You should run this code in Google Colab (or similar) on a GPU. Before proceeding, if you are using Colab, select \"Change runtime type\" from the \"Runtime\" menu, and select \"GPU\" from the \"Hardware accelerator\" drop-down list. Default values are fine for the other drop-downs. "
      ]
    },
    {
      "cell_type": "code",
      "execution_count": null,
      "metadata": {
        "colab": {
          "base_uri": "https://localhost:8080/",
          "height": 158,
          "referenced_widgets": [
            "e3e27e625edf468e91ff97054e54b081",
            "c3a76a6f62564a738a2ad48c1577384f",
            "9caaa6935ae342f2b982bdf9b10b8c13",
            "ff288a0f4abc4e81be71f646a75ae871",
            "aa2d178c964347728ec6a0b7ebcbd65e",
            "b7bf1814c8374dcc823b1cae8fca1de2",
            "577c4a6a54f64f48866dddb610dd7b8e",
            "74cdd5322b0247a0ae6a77c50481ccd1",
            "c8b4c1ccbd2c486fb6d2e108db41eb9f",
            "71663499995644a0a61e767359baca9d",
            "075ad08c0a424d91b9938e593af9a4e0"
          ]
        },
        "id": "maBbdEx3et42",
        "outputId": "9d952295-5fe2-4f64-97b9-841170ad0879"
      },
      "outputs": [
        {
          "output_type": "stream",
          "name": "stderr",
          "text": [
            "/usr/local/lib/python3.7/dist-packages/torchvision/models/_utils.py:209: UserWarning: The parameter 'pretrained' is deprecated since 0.13 and will be removed in 0.15, please use 'weights' instead.\n",
            "  f\"The parameter '{pretrained_param}' is deprecated since 0.13 and will be removed in 0.15, \"\n",
            "/usr/local/lib/python3.7/dist-packages/torchvision/models/_utils.py:223: UserWarning: Arguments other than a weight enum or `None` for 'weights' are deprecated since 0.13 and will be removed in 0.15. The current behavior is equivalent to passing `weights=ResNet50_Weights.IMAGENET1K_V1`. You can also use `weights=ResNet50_Weights.DEFAULT` to get the most up-to-date weights.\n",
            "  warnings.warn(msg)\n",
            "Downloading: \"https://download.pytorch.org/models/resnet50-0676ba61.pth\" to /root/.cache/torch/hub/checkpoints/resnet50-0676ba61.pth\n"
          ]
        },
        {
          "output_type": "display_data",
          "data": {
            "text/plain": [
              "  0%|          | 0.00/97.8M [00:00<?, ?B/s]"
            ],
            "application/vnd.jupyter.widget-view+json": {
              "version_major": 2,
              "version_minor": 0,
              "model_id": "e3e27e625edf468e91ff97054e54b081"
            }
          },
          "metadata": {}
        }
      ],
      "source": [
        "import torch\n",
        "from torchvision import datasets, models, transforms\n",
        "import torch.nn as nn\n",
        "from torch.nn import functional as F\n",
        "import torch.optim as optim\n",
        "\n",
        "\n",
        "model = models.resnet50(pretrained=True)"
      ]
    },
    {
      "cell_type": "markdown",
      "metadata": {
        "id": "nI3rBkPVT31F"
      },
      "source": [
        "We have now imported the necessary packages and downloaded a large convolutional network that has already been trained on ImageNet. Let's now move this network to the GPU that Colab has set aside for us. The code below should also print \"cuda:0\", which indicates that we are using a GPU. CUDA stands for Compute Unified Device Architecture. It is a low-level interface for running code on GPUs. PyTorch will use this interface to run the network on the GPU.  "
      ]
    },
    {
      "cell_type": "code",
      "execution_count": null,
      "metadata": {
        "colab": {
          "base_uri": "https://localhost:8080/"
        },
        "id": "KG-nOSj4TY-1",
        "outputId": "8e423df4-9ab2-4fbc-aa4c-187ef84638d4"
      },
      "outputs": [
        {
          "output_type": "stream",
          "name": "stdout",
          "text": [
            "cuda:0\n"
          ]
        }
      ],
      "source": [
        "device = torch.device(\"cuda:0\" if torch.cuda.is_available() else \"cpu\") \n",
        "model.to(device)\n",
        "print(device)"
      ]
    },
    {
      "cell_type": "markdown",
      "metadata": {
        "id": "Lqjj5ooOYNH9"
      },
      "source": [
        "If you like, you can print the network structure by uncommenting and running the code below. "
      ]
    },
    {
      "cell_type": "code",
      "execution_count": null,
      "metadata": {
        "id": "SJ9yRX_8T9Kc"
      },
      "outputs": [],
      "source": [
        "# print(model)"
      ]
    },
    {
      "cell_type": "markdown",
      "metadata": {
        "id": "1vfI9hy4YyPW"
      },
      "source": [
        "We will now make some changes to the network to prepare for training it on a new task. First, we will \"freeze\" the existing network parameters so that further training will not change them. We do this by telling PyTorch not to calculate the gradient of the loss with respect to these parameters during backpropagation. Second, we will replace the model's final \"fully-connected\" layer with two new layers. While the rest of the network is frozen, calculating features that were learned for ImageNet, these new layers will be trained to use these features for pneumonia inference.  "
      ]
    },
    {
      "cell_type": "code",
      "execution_count": null,
      "metadata": {
        "id": "XUBp3JiPUZ1r"
      },
      "outputs": [],
      "source": [
        "# freeze existing network parameters\n",
        "for parameter in model.parameters():\n",
        "    parameter.requires_grad = False \n",
        "\n",
        "# replace final \"fc\" layer with two new layers that will be trained for pneumonia detection\n",
        "model.fc = nn.Sequential(\n",
        "               nn.Linear(2048, 64),\n",
        "               nn.ReLU(inplace=True),\n",
        "               nn.Linear(64, 2)).to(device)"
      ]
    },
    {
      "cell_type": "markdown",
      "metadata": {
        "id": "JHDeYKuLaGSy"
      },
      "source": [
        "Now we need labelled data for pneumonia detection. We will use data from this paper: \n",
        "\n",
        "Kermany, D. S., Goldbaum, M., Cai, W., Valentim, C. C., Liang, H., Baxter, S. L., ... & Zhang, K. (2018). Identifying medical diagnoses and treatable diseases by image-based deep learning. Cell, 172(5), 1122-1131.\n",
        "\n",
        "There are two ways to proceed: \n",
        "1) The easiest way is to run the code below to download and unzip the dataset. \n",
        "2) Alternatively, you can obtain the data file from this link: https://www.kaggle.com/datasets/paultimothymooney/chest-xray-pneumonia Then, click on the file-folder icon to the left in Colab to upload the zip file to the Colab computer, and run only the unzip command below to unzip the file (comment out the first line). \n",
        "\n",
        "Option (1), which is more convenient, is available because the dataset owners have made the dataset available under a Creative Commons License. This copy of the dataset has not been altered. "
      ]
    },
    {
      "cell_type": "code",
      "execution_count": null,
      "metadata": {
        "colab": {
          "base_uri": "https://localhost:8080/"
        },
        "id": "t7QanaFCewkW",
        "outputId": "f219c66c-fa3c-4c6b-9e6a-ff12a2f4baf2"
      },
      "outputs": [
        {
          "output_type": "stream",
          "name": "stdout",
          "text": [
            "--2022-11-09 21:56:59--  http://bptripp.com/Kermany-Chest-XRay-Data.zip\n",
            "Resolving bptripp.com (bptripp.com)... 64.90.50.171\n",
            "Connecting to bptripp.com (bptripp.com)|64.90.50.171|:80... connected.\n",
            "HTTP request sent, awaiting response... 200 OK\n",
            "Length: 1237670572 (1.2G) [application/zip]\n",
            "Saving to: ‘Kermany-Chest-XRay-Data.zip’\n",
            "\n",
            "Kermany-Chest-XRay- 100%[===================>]   1.15G  20.4MB/s    in 2m 11s  \n",
            "\n",
            "2022-11-09 21:59:12 (9.04 MB/s) - ‘Kermany-Chest-XRay-Data.zip’ saved [1237670572/1237670572]\n",
            "\n"
          ]
        }
      ],
      "source": [
        "!wget bptripp.com/Kermany-Chest-XRay-Data.zip\n",
        "!unzip -q Kermany-Chest-XRay-Data.zip "
      ]
    },
    {
      "cell_type": "markdown",
      "metadata": {
        "id": "NPFfI7jEqB2C"
      },
      "source": [
        "The next step is to create data loaders to load batches of data from these folders. "
      ]
    },
    {
      "cell_type": "code",
      "execution_count": null,
      "metadata": {
        "id": "aMWKAyUumQ8R"
      },
      "outputs": [],
      "source": [
        "# Normalize images in the same way images are normalized for ImageNet\n",
        "normalize = transforms.Normalize(mean=[0.485, 0.456, 0.406],\n",
        "                                 std=[0.229, 0.224, 0.225])\n",
        "\n",
        "transform = transforms.Compose([\n",
        "        transforms.Resize((224,224)),\n",
        "        transforms.RandomAffine(10, shear=10), \n",
        "        transforms.ToTensor(),\n",
        "        normalize\n",
        "    ])\n",
        "\n",
        "input_path = 'chest_xray/'\n",
        "image_datasets = {\n",
        "    'train': datasets.ImageFolder(input_path + 'train', transform),\n",
        "    'validation': datasets.ImageFolder(input_path + 'test', transform)\n",
        "}\n",
        "\n",
        "dataloaders = {\n",
        "    'train': torch.utils.data.DataLoader(image_datasets['train'], batch_size=32, shuffle=True),  \n",
        "    'validation': torch.utils.data.DataLoader(image_datasets['validation'], batch_size=32, shuffle=False)\n",
        "}"
      ]
    },
    {
      "cell_type": "code",
      "execution_count": null,
      "metadata": {
        "id": "Lv8lvn2yZ-Ft"
      },
      "outputs": [],
      "source": [
        "criterion = nn.CrossEntropyLoss()\n",
        "optimizer = optim.Adam(model.fc.parameters(), lr=0.005, weight_decay=1e-6)"
      ]
    },
    {
      "cell_type": "code",
      "execution_count": null,
      "metadata": {
        "id": "GG5qoKN3mxFT"
      },
      "outputs": [],
      "source": [
        "def train(model, train_loader, optimizer, epoch, device=None):\n",
        "    model.train()\n",
        "    total_loss = 0\n",
        "    for batch_idx, (inputs, targets) in enumerate(train_loader):\n",
        "        if device is not None: \n",
        "          inputs = inputs.to(device)\n",
        "          targets = targets.to(device)\n",
        "\n",
        "        optimizer.zero_grad()\n",
        "        outputs = model(inputs)\n",
        "        loss = nn.CrossEntropyLoss()(outputs, targets)\n",
        "        total_loss += loss\n",
        "        loss.backward()\n",
        "        optimizer.step()\n",
        "\n",
        "        if batch_idx % 20 == 0:\n",
        "            print('Epoch: {} {}/{} Training loss: {:.6f}'.format(\n",
        "                epoch,\n",
        "                batch_idx * len(inputs),\n",
        "                len(train_loader.dataset),\n",
        "                loss))\n",
        "\n",
        "    print('Training loss: {:.6f}'.format(total_loss / len(train_loader.dataset) * len(inputs)))\n",
        "\n",
        "\n",
        "def test(model, test_loader, device=None):\n",
        "    model.eval()\n",
        "    loss = 0\n",
        "    correct = 0\n",
        "    with torch.no_grad():\n",
        "        for inputs, targets in test_loader:\n",
        "          if device is not None: \n",
        "            inputs = inputs.to(device)\n",
        "            targets = targets.to(device)\n",
        "\n",
        "            outputs = model(inputs)\n",
        "            loss += nn.CrossEntropyLoss()(outputs, targets)\n",
        "            predictions = outputs.argmax(dim=1, keepdim=True)\n",
        "            correct += predictions.eq(targets.view_as(predictions)).sum()\n",
        "\n",
        "    loss = loss / len(test_loader.dataset) * len(inputs)\n",
        "\n",
        "    print('Test loss: {:.6f}; Test accuracy: {}/{} ({:.1f}%)\\n'.format(\n",
        "        loss,\n",
        "        correct,\n",
        "        len(test_loader.dataset),\n",
        "        100. * correct / len(test_loader.dataset)))"
      ]
    },
    {
      "cell_type": "code",
      "execution_count": null,
      "metadata": {
        "colab": {
          "base_uri": "https://localhost:8080/"
        },
        "id": "N5aq0g3vnD-r",
        "outputId": "7fcd0755-bc52-453c-a83a-bab0eb38b82e"
      },
      "outputs": [
        {
          "output_type": "stream",
          "name": "stdout",
          "text": [
            "Epoch: 0 0/5232 Training loss: 0.743991\n",
            "Epoch: 0 640/5232 Training loss: 0.364548\n",
            "Epoch: 0 1280/5232 Training loss: 0.156028\n",
            "Epoch: 0 1920/5232 Training loss: 0.174109\n",
            "Epoch: 0 2560/5232 Training loss: 0.229006\n",
            "Epoch: 0 3200/5232 Training loss: 0.074207\n",
            "Epoch: 0 3840/5232 Training loss: 0.159176\n",
            "Epoch: 0 4480/5232 Training loss: 0.352894\n",
            "Epoch: 0 5120/5232 Training loss: 0.341475\n",
            "Training loss: 0.131848\n",
            "Test loss: 0.187664; Test accuracy: 535/624 (85.7%)\n",
            "\n",
            "Epoch: 1 0/5232 Training loss: 0.065968\n",
            "Epoch: 1 640/5232 Training loss: 0.721212\n",
            "Epoch: 1 1280/5232 Training loss: 0.292268\n",
            "Epoch: 1 1920/5232 Training loss: 0.457564\n",
            "Epoch: 1 2560/5232 Training loss: 0.233795\n",
            "Epoch: 1 3200/5232 Training loss: 0.035551\n",
            "Epoch: 1 3840/5232 Training loss: 0.103989\n",
            "Epoch: 1 4480/5232 Training loss: 0.356488\n",
            "Epoch: 1 5120/5232 Training loss: 0.142546\n",
            "Training loss: 0.098189\n",
            "Test loss: 0.289512; Test accuracy: 498/624 (79.8%)\n",
            "\n",
            "Epoch: 2 0/5232 Training loss: 0.216932\n",
            "Epoch: 2 640/5232 Training loss: 0.136235\n",
            "Epoch: 2 1280/5232 Training loss: 0.150544\n",
            "Epoch: 2 1920/5232 Training loss: 0.226429\n",
            "Epoch: 2 2560/5232 Training loss: 0.086579\n",
            "Epoch: 2 3200/5232 Training loss: 0.244368\n",
            "Epoch: 2 3840/5232 Training loss: 0.153488\n",
            "Epoch: 2 4480/5232 Training loss: 0.146461\n",
            "Epoch: 2 5120/5232 Training loss: 0.217407\n",
            "Training loss: 0.094332\n",
            "Test loss: 0.252878; Test accuracy: 496/624 (79.5%)\n",
            "\n",
            "Epoch: 3 0/5232 Training loss: 0.072207\n",
            "Epoch: 3 640/5232 Training loss: 0.023810\n",
            "Epoch: 3 1280/5232 Training loss: 0.146513\n",
            "Epoch: 3 1920/5232 Training loss: 0.075573\n",
            "Epoch: 3 2560/5232 Training loss: 0.197997\n",
            "Epoch: 3 3200/5232 Training loss: 0.267543\n",
            "Epoch: 3 3840/5232 Training loss: 0.116406\n",
            "Epoch: 3 4480/5232 Training loss: 0.124221\n",
            "Epoch: 3 5120/5232 Training loss: 0.169759\n",
            "Training loss: 0.079763\n",
            "Test loss: 0.331152; Test accuracy: 491/624 (78.7%)\n",
            "\n",
            "Epoch: 4 0/5232 Training loss: 0.131960\n",
            "Epoch: 4 640/5232 Training loss: 0.070088\n",
            "Epoch: 4 1280/5232 Training loss: 0.272181\n",
            "Epoch: 4 1920/5232 Training loss: 0.230671\n",
            "Epoch: 4 2560/5232 Training loss: 0.101539\n",
            "Epoch: 4 3200/5232 Training loss: 0.187778\n",
            "Epoch: 4 3840/5232 Training loss: 0.090816\n",
            "Epoch: 4 4480/5232 Training loss: 0.057828\n",
            "Epoch: 4 5120/5232 Training loss: 0.061363\n",
            "Training loss: 0.074831\n",
            "Test loss: 0.227176; Test accuracy: 527/624 (84.5%)\n",
            "\n"
          ]
        }
      ],
      "source": [
        "for epoch in range(5):\n",
        "  train(model, dataloaders['train'], optimizer, epoch, device=device)\n",
        "  test(model, dataloaders['validation'], device=device)"
      ]
    }
  ],
  "metadata": {
    "accelerator": "GPU",
    "colab": {
      "provenance": [],
      "authorship_tag": "ABX9TyNq4/SbB4VuQhH8tPsc1F90",
      "include_colab_link": true
    },
    "gpuClass": "standard",
    "kernelspec": {
      "display_name": "Python 3",
      "name": "python3"
    },
    "language_info": {
      "name": "python"
    },
    "widgets": {
      "application/vnd.jupyter.widget-state+json": {
        "e3e27e625edf468e91ff97054e54b081": {
          "model_module": "@jupyter-widgets/controls",
          "model_name": "HBoxModel",
          "model_module_version": "1.5.0",
          "state": {
            "_dom_classes": [],
            "_model_module": "@jupyter-widgets/controls",
            "_model_module_version": "1.5.0",
            "_model_name": "HBoxModel",
            "_view_count": null,
            "_view_module": "@jupyter-widgets/controls",
            "_view_module_version": "1.5.0",
            "_view_name": "HBoxView",
            "box_style": "",
            "children": [
              "IPY_MODEL_c3a76a6f62564a738a2ad48c1577384f",
              "IPY_MODEL_9caaa6935ae342f2b982bdf9b10b8c13",
              "IPY_MODEL_ff288a0f4abc4e81be71f646a75ae871"
            ],
            "layout": "IPY_MODEL_aa2d178c964347728ec6a0b7ebcbd65e"
          }
        },
        "c3a76a6f62564a738a2ad48c1577384f": {
          "model_module": "@jupyter-widgets/controls",
          "model_name": "HTMLModel",
          "model_module_version": "1.5.0",
          "state": {
            "_dom_classes": [],
            "_model_module": "@jupyter-widgets/controls",
            "_model_module_version": "1.5.0",
            "_model_name": "HTMLModel",
            "_view_count": null,
            "_view_module": "@jupyter-widgets/controls",
            "_view_module_version": "1.5.0",
            "_view_name": "HTMLView",
            "description": "",
            "description_tooltip": null,
            "layout": "IPY_MODEL_b7bf1814c8374dcc823b1cae8fca1de2",
            "placeholder": "​",
            "style": "IPY_MODEL_577c4a6a54f64f48866dddb610dd7b8e",
            "value": "100%"
          }
        },
        "9caaa6935ae342f2b982bdf9b10b8c13": {
          "model_module": "@jupyter-widgets/controls",
          "model_name": "FloatProgressModel",
          "model_module_version": "1.5.0",
          "state": {
            "_dom_classes": [],
            "_model_module": "@jupyter-widgets/controls",
            "_model_module_version": "1.5.0",
            "_model_name": "FloatProgressModel",
            "_view_count": null,
            "_view_module": "@jupyter-widgets/controls",
            "_view_module_version": "1.5.0",
            "_view_name": "ProgressView",
            "bar_style": "success",
            "description": "",
            "description_tooltip": null,
            "layout": "IPY_MODEL_74cdd5322b0247a0ae6a77c50481ccd1",
            "max": 102530333,
            "min": 0,
            "orientation": "horizontal",
            "style": "IPY_MODEL_c8b4c1ccbd2c486fb6d2e108db41eb9f",
            "value": 102530333
          }
        },
        "ff288a0f4abc4e81be71f646a75ae871": {
          "model_module": "@jupyter-widgets/controls",
          "model_name": "HTMLModel",
          "model_module_version": "1.5.0",
          "state": {
            "_dom_classes": [],
            "_model_module": "@jupyter-widgets/controls",
            "_model_module_version": "1.5.0",
            "_model_name": "HTMLModel",
            "_view_count": null,
            "_view_module": "@jupyter-widgets/controls",
            "_view_module_version": "1.5.0",
            "_view_name": "HTMLView",
            "description": "",
            "description_tooltip": null,
            "layout": "IPY_MODEL_71663499995644a0a61e767359baca9d",
            "placeholder": "​",
            "style": "IPY_MODEL_075ad08c0a424d91b9938e593af9a4e0",
            "value": " 97.8M/97.8M [00:00&lt;00:00, 240MB/s]"
          }
        },
        "aa2d178c964347728ec6a0b7ebcbd65e": {
          "model_module": "@jupyter-widgets/base",
          "model_name": "LayoutModel",
          "model_module_version": "1.2.0",
          "state": {
            "_model_module": "@jupyter-widgets/base",
            "_model_module_version": "1.2.0",
            "_model_name": "LayoutModel",
            "_view_count": null,
            "_view_module": "@jupyter-widgets/base",
            "_view_module_version": "1.2.0",
            "_view_name": "LayoutView",
            "align_content": null,
            "align_items": null,
            "align_self": null,
            "border": null,
            "bottom": null,
            "display": null,
            "flex": null,
            "flex_flow": null,
            "grid_area": null,
            "grid_auto_columns": null,
            "grid_auto_flow": null,
            "grid_auto_rows": null,
            "grid_column": null,
            "grid_gap": null,
            "grid_row": null,
            "grid_template_areas": null,
            "grid_template_columns": null,
            "grid_template_rows": null,
            "height": null,
            "justify_content": null,
            "justify_items": null,
            "left": null,
            "margin": null,
            "max_height": null,
            "max_width": null,
            "min_height": null,
            "min_width": null,
            "object_fit": null,
            "object_position": null,
            "order": null,
            "overflow": null,
            "overflow_x": null,
            "overflow_y": null,
            "padding": null,
            "right": null,
            "top": null,
            "visibility": null,
            "width": null
          }
        },
        "b7bf1814c8374dcc823b1cae8fca1de2": {
          "model_module": "@jupyter-widgets/base",
          "model_name": "LayoutModel",
          "model_module_version": "1.2.0",
          "state": {
            "_model_module": "@jupyter-widgets/base",
            "_model_module_version": "1.2.0",
            "_model_name": "LayoutModel",
            "_view_count": null,
            "_view_module": "@jupyter-widgets/base",
            "_view_module_version": "1.2.0",
            "_view_name": "LayoutView",
            "align_content": null,
            "align_items": null,
            "align_self": null,
            "border": null,
            "bottom": null,
            "display": null,
            "flex": null,
            "flex_flow": null,
            "grid_area": null,
            "grid_auto_columns": null,
            "grid_auto_flow": null,
            "grid_auto_rows": null,
            "grid_column": null,
            "grid_gap": null,
            "grid_row": null,
            "grid_template_areas": null,
            "grid_template_columns": null,
            "grid_template_rows": null,
            "height": null,
            "justify_content": null,
            "justify_items": null,
            "left": null,
            "margin": null,
            "max_height": null,
            "max_width": null,
            "min_height": null,
            "min_width": null,
            "object_fit": null,
            "object_position": null,
            "order": null,
            "overflow": null,
            "overflow_x": null,
            "overflow_y": null,
            "padding": null,
            "right": null,
            "top": null,
            "visibility": null,
            "width": null
          }
        },
        "577c4a6a54f64f48866dddb610dd7b8e": {
          "model_module": "@jupyter-widgets/controls",
          "model_name": "DescriptionStyleModel",
          "model_module_version": "1.5.0",
          "state": {
            "_model_module": "@jupyter-widgets/controls",
            "_model_module_version": "1.5.0",
            "_model_name": "DescriptionStyleModel",
            "_view_count": null,
            "_view_module": "@jupyter-widgets/base",
            "_view_module_version": "1.2.0",
            "_view_name": "StyleView",
            "description_width": ""
          }
        },
        "74cdd5322b0247a0ae6a77c50481ccd1": {
          "model_module": "@jupyter-widgets/base",
          "model_name": "LayoutModel",
          "model_module_version": "1.2.0",
          "state": {
            "_model_module": "@jupyter-widgets/base",
            "_model_module_version": "1.2.0",
            "_model_name": "LayoutModel",
            "_view_count": null,
            "_view_module": "@jupyter-widgets/base",
            "_view_module_version": "1.2.0",
            "_view_name": "LayoutView",
            "align_content": null,
            "align_items": null,
            "align_self": null,
            "border": null,
            "bottom": null,
            "display": null,
            "flex": null,
            "flex_flow": null,
            "grid_area": null,
            "grid_auto_columns": null,
            "grid_auto_flow": null,
            "grid_auto_rows": null,
            "grid_column": null,
            "grid_gap": null,
            "grid_row": null,
            "grid_template_areas": null,
            "grid_template_columns": null,
            "grid_template_rows": null,
            "height": null,
            "justify_content": null,
            "justify_items": null,
            "left": null,
            "margin": null,
            "max_height": null,
            "max_width": null,
            "min_height": null,
            "min_width": null,
            "object_fit": null,
            "object_position": null,
            "order": null,
            "overflow": null,
            "overflow_x": null,
            "overflow_y": null,
            "padding": null,
            "right": null,
            "top": null,
            "visibility": null,
            "width": null
          }
        },
        "c8b4c1ccbd2c486fb6d2e108db41eb9f": {
          "model_module": "@jupyter-widgets/controls",
          "model_name": "ProgressStyleModel",
          "model_module_version": "1.5.0",
          "state": {
            "_model_module": "@jupyter-widgets/controls",
            "_model_module_version": "1.5.0",
            "_model_name": "ProgressStyleModel",
            "_view_count": null,
            "_view_module": "@jupyter-widgets/base",
            "_view_module_version": "1.2.0",
            "_view_name": "StyleView",
            "bar_color": null,
            "description_width": ""
          }
        },
        "71663499995644a0a61e767359baca9d": {
          "model_module": "@jupyter-widgets/base",
          "model_name": "LayoutModel",
          "model_module_version": "1.2.0",
          "state": {
            "_model_module": "@jupyter-widgets/base",
            "_model_module_version": "1.2.0",
            "_model_name": "LayoutModel",
            "_view_count": null,
            "_view_module": "@jupyter-widgets/base",
            "_view_module_version": "1.2.0",
            "_view_name": "LayoutView",
            "align_content": null,
            "align_items": null,
            "align_self": null,
            "border": null,
            "bottom": null,
            "display": null,
            "flex": null,
            "flex_flow": null,
            "grid_area": null,
            "grid_auto_columns": null,
            "grid_auto_flow": null,
            "grid_auto_rows": null,
            "grid_column": null,
            "grid_gap": null,
            "grid_row": null,
            "grid_template_areas": null,
            "grid_template_columns": null,
            "grid_template_rows": null,
            "height": null,
            "justify_content": null,
            "justify_items": null,
            "left": null,
            "margin": null,
            "max_height": null,
            "max_width": null,
            "min_height": null,
            "min_width": null,
            "object_fit": null,
            "object_position": null,
            "order": null,
            "overflow": null,
            "overflow_x": null,
            "overflow_y": null,
            "padding": null,
            "right": null,
            "top": null,
            "visibility": null,
            "width": null
          }
        },
        "075ad08c0a424d91b9938e593af9a4e0": {
          "model_module": "@jupyter-widgets/controls",
          "model_name": "DescriptionStyleModel",
          "model_module_version": "1.5.0",
          "state": {
            "_model_module": "@jupyter-widgets/controls",
            "_model_module_version": "1.5.0",
            "_model_name": "DescriptionStyleModel",
            "_view_count": null,
            "_view_module": "@jupyter-widgets/base",
            "_view_module_version": "1.2.0",
            "_view_name": "StyleView",
            "description_width": ""
          }
        }
      }
    }
  },
  "nbformat": 4,
  "nbformat_minor": 0
}