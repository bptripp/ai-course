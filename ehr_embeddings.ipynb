{
  "nbformat": 4,
  "nbformat_minor": 0,
  "metadata": {
    "colab": {
      "provenance": [],
      "include_colab_link": true
    },
    "kernelspec": {
      "name": "python3",
      "display_name": "Python 3"
    },
    "language_info": {
      "name": "python"
    }
  },
  "cells": [
    {
      "cell_type": "markdown",
      "metadata": {
        "id": "view-in-github",
        "colab_type": "text"
      },
      "source": [
        "<a href=\"https://colab.research.google.com/github/bptripp/ai-course/blob/main/ehr_embeddings.ipynb\" target=\"_parent\"><img src=\"https://colab.research.google.com/assets/colab-badge.svg\" alt=\"Open In Colab\"/></a>"
      ]
    },
    {
      "cell_type": "markdown",
      "source": [
        "#Encoding an Electronic Health Record (EHR)\n",
        "A deep network may need EHR information from multiple modalities to make the best inferences. For example, in the recent literature, ICD discharge codes have been inferred more accurately by systems that use the full record of a hospital visit than by systems that use only a discharge letter as input.\n",
        "\n",
        "You have already seen how to encode notes and images as vectors. As an additional example, consider how to encode a 12-lead ECG order. Most elements of the order are selected from drop-down lists in the EHR interface at the time of order. Each item in each drop-down list can be added to the system's vocabulary. In a state-of-the-art system, this vocabulary would be one-hot encoded and fed into a transformer. The transformer would learn optimal embedding vectors, attention matrices, etc. for a self-supervised task, and then fine tuned to answer questions, or follow instructions, or perform some other particular task. However, this process is too complex and time-consuming to work through here.  \n",
        "\n",
        "Instead, as a simplified example, the code below reads a patient's orders from an electronic health record and encodes the elements of each order using pre-trained word embeddings.\n",
        "\n",
        "Start by downloading a set of pre-trained embeddings. The embeddings below are similar to word2vec embeddings, and should only take a few seconds to download.\n",
        "\n",
        "*Run the code below to download pretrained word embeddings. The code will also print an example vector for the word \"cortisol\".*"
      ],
      "metadata": {
        "id": "R4h5tc7rnGTZ"
      }
    },
    {
      "cell_type": "code",
      "source": [
        "import gensim.downloader\n",
        "vectors = gensim.downloader.load('glove-twitter-25')\n",
        "print(vectors.get_vector('cortisol'))\n"
      ],
      "metadata": {
        "colab": {
          "base_uri": "https://localhost:8080/"
        },
        "id": "Zry9tFmXVq5W",
        "outputId": "4636307d-c38c-4cce-dc8f-1ff78e2124d0"
      },
      "execution_count": 1,
      "outputs": [
        {
          "output_type": "stream",
          "name": "stdout",
          "text": [
            "[=================================================-] 99.6% 104.4/104.8MB downloaded\n",
            "[-0.042121 -0.30836  -1.2449    2.0054    0.82295   2.0069   -0.20042\n",
            " -0.73573   1.2235    0.013556  0.47971   0.78728  -0.43291   0.77171\n",
            "  0.46065   1.0751   -0.73819   1.2626    1.9331   -0.31433  -0.46394\n",
            "  0.90599   0.67538  -0.44131  -0.86128 ]\n"
          ]
        }
      ]
    },
    {
      "cell_type": "markdown",
      "source": [
        "The next step is to query a patient's orders from an EHR system. To make this more realistic, the code below uses the HL7 FHIR protocol to query a fictional EHR. This will require importing a package called \"fhirclient\". However, fhirclient is not yet installed on the server where you are running this code.\n",
        "\n",
        "*Run the code below to download and install fhirclient on this server.*"
      ],
      "metadata": {
        "id": "DzniYx2qAzIC"
      }
    },
    {
      "cell_type": "code",
      "source": [
        "!pip install git+https://github.com/smart-on-fhir/client-py.git"
      ],
      "metadata": {
        "colab": {
          "base_uri": "https://localhost:8080/"
        },
        "id": "9SZ9fyXvB25r",
        "outputId": "51155207-aacb-4ea1-d49f-2718c0f525f6"
      },
      "execution_count": 2,
      "outputs": [
        {
          "output_type": "stream",
          "name": "stdout",
          "text": [
            "Collecting git+https://github.com/smart-on-fhir/client-py.git\n",
            "  Cloning https://github.com/smart-on-fhir/client-py.git to /tmp/pip-req-build-a7tt4a4j\n",
            "  Running command git clone --filter=blob:none --quiet https://github.com/smart-on-fhir/client-py.git /tmp/pip-req-build-a7tt4a4j\n",
            "  Resolved https://github.com/smart-on-fhir/client-py.git to commit df634f5354aec83335ca45648552f84d1964c033\n",
            "  Running command git submodule update --init --recursive -q\n",
            "  Preparing metadata (setup.py) ... \u001b[?25l\u001b[?25hdone\n",
            "Requirement already satisfied: requests in /usr/local/lib/python3.10/dist-packages (from fhirclient==4.1.0) (2.31.0)\n",
            "Collecting isodate (from fhirclient==4.1.0)\n",
            "  Downloading isodate-0.6.1-py2.py3-none-any.whl (41 kB)\n",
            "\u001b[2K     \u001b[90m━━━━━━━━━━━━━━━━━━━━━━━━━━━━━━━━━━━━━━━━\u001b[0m \u001b[32m41.7/41.7 kB\u001b[0m \u001b[31m1.4 MB/s\u001b[0m eta \u001b[36m0:00:00\u001b[0m\n",
            "\u001b[?25hRequirement already satisfied: six in /usr/local/lib/python3.10/dist-packages (from isodate->fhirclient==4.1.0) (1.16.0)\n",
            "Requirement already satisfied: charset-normalizer<4,>=2 in /usr/local/lib/python3.10/dist-packages (from requests->fhirclient==4.1.0) (3.2.0)\n",
            "Requirement already satisfied: idna<4,>=2.5 in /usr/local/lib/python3.10/dist-packages (from requests->fhirclient==4.1.0) (3.4)\n",
            "Requirement already satisfied: urllib3<3,>=1.21.1 in /usr/local/lib/python3.10/dist-packages (from requests->fhirclient==4.1.0) (2.0.4)\n",
            "Requirement already satisfied: certifi>=2017.4.17 in /usr/local/lib/python3.10/dist-packages (from requests->fhirclient==4.1.0) (2023.7.22)\n",
            "Building wheels for collected packages: fhirclient\n",
            "  Building wheel for fhirclient (setup.py) ... \u001b[?25l\u001b[?25hdone\n",
            "  Created wheel for fhirclient: filename=fhirclient-4.1.0-py2.py3-none-any.whl size=683652 sha256=0aae2fef54dcf0493d8760da8f9def6424af2ddea8d344526aee3ee13e01ef49\n",
            "  Stored in directory: /tmp/pip-ephem-wheel-cache-cucbhknp/wheels/7a/00/1e/70a8a264841af3999df89cebfed1c1a0da68e8dac05f22d1af\n",
            "Successfully built fhirclient\n",
            "Installing collected packages: isodate, fhirclient\n",
            "Successfully installed fhirclient-4.1.0 isodate-0.6.1\n"
          ]
        }
      ]
    },
    {
      "cell_type": "markdown",
      "source": [
        "It is now possible to import code from the fhirclient package and connect to an EHR that supports the HL7 FHIR protocol. Rather than accessing real patient data, the code below connects to a fictional EHR provided by the HL7 organization.\n",
        "\n",
        "*Run the code below to connect to a fictional EHR.*"
      ],
      "metadata": {
        "id": "DO88NnCaCNnP"
      }
    },
    {
      "cell_type": "code",
      "source": [
        "from fhirclient import client\n",
        "import fhirclient.models.servicerequest as sr\n",
        "\n",
        "settings = {\n",
        "    'app_id': 'EHR',\n",
        "    'api_base': 'http://hapi.fhir.org/baseR4/'\n",
        "}\n",
        "ehr = client.FHIRClient(settings=settings)\n"
      ],
      "metadata": {
        "id": "Nq3wGe-UB1rC"
      },
      "execution_count": 6,
      "outputs": []
    },
    {
      "cell_type": "markdown",
      "source": [
        "The following code defines a function that looks up the embedding for a given word. If the word is unknown to the vocabulary, the function indicates this by returning the value *None* (recall that this means the value is undefined).\n",
        "\n",
        "*Run the code below to create this function.*"
      ],
      "metadata": {
        "id": "uMUzEP2MK5K-"
      }
    },
    {
      "cell_type": "code",
      "source": [
        "import numpy as np\n",
        "\n",
        "vector_length = 25 # our embedding vectors are 25 numbers long\n",
        "\n",
        "def get_word_vector(word):\n",
        "  if vectors.__contains__(word):\n",
        "    return vectors.get_vector(word)\n",
        "  else:\n",
        "    return None"
      ],
      "metadata": {
        "id": "tBp7rRBIK59X"
      },
      "execution_count": 7,
      "outputs": []
    },
    {
      "cell_type": "markdown",
      "source": [
        "In order for a deep network to use information about an order, it is necessary to encode different elements of the order as vectors. Since the order structure in the EHR may be complex, one way forward is to write functions for each required element of information to extract this information and produce a corresponding vector. For simplicity, the code below defines functions that produce vectors for the text-based order description and the order status.\n",
        "\n",
        "*Run the code below to create functions that produce vectors for an order's status and description. *"
      ],
      "metadata": {
        "id": "g2DcbSbcwtiB"
      }
    },
    {
      "cell_type": "code",
      "source": [
        "def get_status_vector(order):\n",
        "  # The status will be a single word (e.g. \"active\") that appears in the\n",
        "  #  vocabulary, so we can just return the corresponding vector.\n",
        "  return get_word_vector(order.resource.status)\n",
        "\n",
        "def get_description_vector(order):\n",
        "  # The description will contain multiple words. We produce a summary\n",
        "  # vector by adding their vectors together.\n",
        "  description = order.resource.code.coding[0].display\n",
        "  description = re.sub('[^\\w ]', '', description)\n",
        "  words = description.lower().split()\n",
        "  description_vector = np.zeros(vector_length)\n",
        "  for word in words:\n",
        "    vector = get_word_vector(word)\n",
        "    if vector is not None:\n",
        "      description_vector = description_vector + vector\n",
        "  return description_vector\n",
        "\n"
      ],
      "metadata": {
        "id": "UR9obPYmwuv1"
      },
      "execution_count": 14,
      "outputs": []
    },
    {
      "cell_type": "markdown",
      "source": [
        "You are nearly done. Now you can use a patient's medical record number to retrieve their \"service requests\" (orders), and create vectors for each one. This code may take a few seconds to run."
      ],
      "metadata": {
        "id": "l2Tu9zlFLHc9"
      }
    },
    {
      "cell_type": "code",
      "source": [
        "import re\n",
        "\n",
        "patient_mrn = '2782378'\n",
        "bundle = sr.ServiceRequest.where(struct={'subject': patient_mrn}).perform(ehr.server)\n",
        "\n",
        "order_vectors = [] # start with empty list of vectors\n",
        "for order in bundle.entry:\n",
        "  order_vectors.append(get_status_vector(order))\n",
        "  order_vectors.append(get_description_vector(order))\n",
        "\n",
        "print(np.array(order_vectors))\n"
      ],
      "metadata": {
        "colab": {
          "base_uri": "https://localhost:8080/"
        },
        "id": "2jjovjehLSDL",
        "outputId": "83046609-8afd-485d-b564-38a881430d46"
      },
      "execution_count": 16,
      "outputs": [
        {
          "output_type": "stream",
          "name": "stdout",
          "text": [
            "[[-2.53149986e-01  8.59239995e-02 -8.99049997e-01 -9.47350025e-01\n",
            "   9.77339983e-01  2.30829999e-01  5.89619994e-01 -1.71680003e-01\n",
            "   3.44660014e-01  4.36550006e-02 -5.71120024e-01 -2.41300002e-01\n",
            "  -2.55819988e+00  4.75789994e-01 -2.71550007e-02  4.83990014e-01\n",
            "   4.29300010e-01 -3.38609993e-01  1.61579996e-01 -4.39350009e-01\n",
            "  -4.17409986e-01 -4.25179988e-01 -3.19889992e-01 -2.78120011e-01\n",
            "  -1.16789997e+00]\n",
            " [-3.19875009e+00  4.42328995e+00 -2.91655003e+00 -1.44630004e+00\n",
            "   4.52315497e+00 -2.99352004e+00  4.01353185e+00 -7.52678719e+00\n",
            "   4.60556604e+00  1.93320994e+00  1.49409295e+00 -1.41415702e+00\n",
            "  -2.59652003e+01  4.76883046e-01  2.18562900e+00 -1.31574000e+00\n",
            "   4.55082007e+00 -2.91629310e+00 -1.19922797e+00 -1.43058301e+00\n",
            "  -3.91386001e+00 -5.87148013e+00 -4.52575998e+00 -1.57049969e-01\n",
            "  -1.72378498e+00]\n",
            " [-2.53149986e-01  8.59239995e-02 -8.99049997e-01 -9.47350025e-01\n",
            "   9.77339983e-01  2.30829999e-01  5.89619994e-01 -1.71680003e-01\n",
            "   3.44660014e-01  4.36550006e-02 -5.71120024e-01 -2.41300002e-01\n",
            "  -2.55819988e+00  4.75789994e-01 -2.71550007e-02  4.83990014e-01\n",
            "   4.29300010e-01 -3.38609993e-01  1.61579996e-01 -4.39350009e-01\n",
            "  -4.17409986e-01 -4.25179988e-01 -3.19889992e-01 -2.78120011e-01\n",
            "  -1.16789997e+00]\n",
            " [-4.60440010e-01 -6.56804971e-01  1.01817502e-01  6.88999996e-01\n",
            "   4.56466019e-01 -5.46229929e-02  2.81397998e+00 -1.89519998e+00\n",
            "  -9.39290002e-01  1.09149600e+00  4.12459970e-01  2.66777003e+00\n",
            "  -1.46601999e+01  2.06159987e-01  6.19888008e-01  1.00649998e-01\n",
            "   9.19383004e-01  2.84749985e-01 -7.97610000e-01 -2.68960014e-01\n",
            "  -1.41251004e+00  1.57560005e+00  1.87318999e+00 -1.09380037e-01\n",
            "  -3.95742998e-01]\n",
            " [-2.53149986e-01  8.59239995e-02 -8.99049997e-01 -9.47350025e-01\n",
            "   9.77339983e-01  2.30829999e-01  5.89619994e-01 -1.71680003e-01\n",
            "   3.44660014e-01  4.36550006e-02 -5.71120024e-01 -2.41300002e-01\n",
            "  -2.55819988e+00  4.75789994e-01 -2.71550007e-02  4.83990014e-01\n",
            "   4.29300010e-01 -3.38609993e-01  1.61579996e-01 -4.39350009e-01\n",
            "  -4.17409986e-01 -4.25179988e-01 -3.19889992e-01 -2.78120011e-01\n",
            "  -1.16789997e+00]\n",
            " [ 1.13467901e+00  5.14929980e-01 -1.43855999e+00  1.75211993e+00\n",
            "   1.81661999e+00  1.83180007e+00  7.55769983e-01 -8.76219988e-01\n",
            "   2.12656999e+00  7.92976018e-01  5.32458011e-01  8.03109024e-01\n",
            "  -3.49680999e+00  1.57053995e+00  1.43231001e+00  1.22869995e+00\n",
            "  -1.89610004e-01  1.19984494e+00  7.93699980e-01 -8.53610009e-01\n",
            "  -9.57829982e-01  7.30499998e-01  2.59959996e-01  1.86839998e-01\n",
            "  -1.19676003e+00]\n",
            " [-2.53149986e-01  8.59239995e-02 -8.99049997e-01 -9.47350025e-01\n",
            "   9.77339983e-01  2.30829999e-01  5.89619994e-01 -1.71680003e-01\n",
            "   3.44660014e-01  4.36550006e-02 -5.71120024e-01 -2.41300002e-01\n",
            "  -2.55819988e+00  4.75789994e-01 -2.71550007e-02  4.83990014e-01\n",
            "   4.29300010e-01 -3.38609993e-01  1.61579996e-01 -4.39350009e-01\n",
            "  -4.17409986e-01 -4.25179988e-01 -3.19889992e-01 -2.78120011e-01\n",
            "  -1.16789997e+00]\n",
            " [-4.60440010e-01 -6.56804971e-01  1.01817502e-01  6.88999996e-01\n",
            "   4.56466019e-01 -5.46229929e-02  2.81397998e+00 -1.89519998e+00\n",
            "  -9.39290002e-01  1.09149600e+00  4.12459970e-01  2.66777003e+00\n",
            "  -1.46601999e+01  2.06159987e-01  6.19888008e-01  1.00649998e-01\n",
            "   9.19383004e-01  2.84749985e-01 -7.97610000e-01 -2.68960014e-01\n",
            "  -1.41251004e+00  1.57560005e+00  1.87318999e+00 -1.09380037e-01\n",
            "  -3.95742998e-01]\n",
            " [-2.53149986e-01  8.59239995e-02 -8.99049997e-01 -9.47350025e-01\n",
            "   9.77339983e-01  2.30829999e-01  5.89619994e-01 -1.71680003e-01\n",
            "   3.44660014e-01  4.36550006e-02 -5.71120024e-01 -2.41300002e-01\n",
            "  -2.55819988e+00  4.75789994e-01 -2.71550007e-02  4.83990014e-01\n",
            "   4.29300010e-01 -3.38609993e-01  1.61579996e-01 -4.39350009e-01\n",
            "  -4.17409986e-01 -4.25179988e-01 -3.19889992e-01 -2.78120011e-01\n",
            "  -1.16789997e+00]\n",
            " [-4.33843974e-01 -6.54184010e-01 -5.44568025e-01  1.03366998e+00\n",
            "   1.87166701e+00  9.54033006e-01 -2.67006457e-03 -3.43313000e+00\n",
            "   1.81938692e+00  3.12006023e-01  8.14210005e-01  1.09347031e-01\n",
            "  -1.06945199e+01  1.68009003e+00  1.60592800e+00 -9.47009981e-01\n",
            "   2.30223000e+00  8.34686950e-01  2.04921992e+00 -7.13880032e-01\n",
            "  -2.75875002e+00  1.21356897e+00  2.89433992e+00 -2.45351803e-01\n",
            "  -2.16819303e+00]\n",
            " [-2.53149986e-01  8.59239995e-02 -8.99049997e-01 -9.47350025e-01\n",
            "   9.77339983e-01  2.30829999e-01  5.89619994e-01 -1.71680003e-01\n",
            "   3.44660014e-01  4.36550006e-02 -5.71120024e-01 -2.41300002e-01\n",
            "  -2.55819988e+00  4.75789994e-01 -2.71550007e-02  4.83990014e-01\n",
            "   4.29300010e-01 -3.38609993e-01  1.61579996e-01 -4.39350009e-01\n",
            "  -4.17409986e-01 -4.25179988e-01 -3.19889992e-01 -2.78120011e-01\n",
            "  -1.16789997e+00]\n",
            " [ 1.50450021e-01  2.38896006e+00 -4.89470005e+00  3.42330981e-01\n",
            "   2.76922002e+00 -9.49290007e-01  2.01036003e+00 -4.67430007e+00\n",
            "   2.77225006e+00 -7.64419921e-02 -1.35579988e-01 -2.33593006e-01\n",
            "  -1.02572000e+01  2.37766004e+00  2.21710998e+00 -2.44561997e+00\n",
            "  -8.94020720e-01  1.22111000e+00  2.53849000e+00 -1.99619000e+00\n",
            "  -6.03600964e-03 -1.01948699e+00 -3.13501006e+00 -8.52089986e-01\n",
            "  -6.68763001e-01]\n",
            " [-2.53149986e-01  8.59239995e-02 -8.99049997e-01 -9.47350025e-01\n",
            "   9.77339983e-01  2.30829999e-01  5.89619994e-01 -1.71680003e-01\n",
            "   3.44660014e-01  4.36550006e-02 -5.71120024e-01 -2.41300002e-01\n",
            "  -2.55819988e+00  4.75789994e-01 -2.71550007e-02  4.83990014e-01\n",
            "   4.29300010e-01 -3.38609993e-01  1.61579996e-01 -4.39350009e-01\n",
            "  -4.17409986e-01 -4.25179988e-01 -3.19889992e-01 -2.78120011e-01\n",
            "  -1.16789997e+00]\n",
            " [-9.51419950e-01  1.04562002e+00 -2.57130003e+00 -3.12140018e-01\n",
            "   2.63440001e+00 -6.96470007e-01  6.76929981e-01 -3.00399995e+00\n",
            "   1.84696007e+00  1.95487987e-01 -7.55301993e-01 -7.12352995e-01\n",
            "  -5.30570006e+00  6.30840018e-01  7.28008701e-01 -1.07609001e+00\n",
            "   1.32195000e+00  5.42983007e-01  1.84824002e+00 -6.84780017e-01\n",
            "   6.28050007e-02  6.28019959e-01 -1.83059004e+00 -7.85369992e-01\n",
            "  -1.54011004e-01]\n",
            " [ 2.96189994e-01 -8.16890001e-02 -1.43969998e-01  6.04430020e-01\n",
            "   5.91899991e-01 -5.67670017e-02  1.06599998e+00 -4.70569998e-01\n",
            "   4.18320000e-01 -9.30090025e-02 -5.92530012e-01  1.00839996e+00\n",
            "  -2.58649993e+00  8.81250024e-01 -1.60740003e-01  1.98699996e-01\n",
            "   3.80089998e-01  8.15970004e-01  8.44079971e-01 -7.57130012e-02\n",
            "   2.99349993e-01 -4.45769995e-01 -2.80389994e-01 -8.52479994e-01\n",
            "  -6.96510017e-01]\n",
            " [-7.43650019e-01  2.91409999e-01 -2.42860004e-01  5.24169981e-01\n",
            "   8.16600025e-01  7.77270019e-01  3.51940006e-01  4.19679999e-01\n",
            "   5.90950012e-01 -6.77929997e-01 -3.45690012e-01  1.70629993e-01\n",
            "  -3.04010010e+00 -2.77379990e-01  8.00329983e-01  8.92210007e-01\n",
            "  -1.08530000e-01 -8.94280002e-02  4.01969999e-01  2.75310010e-01\n",
            "   6.69599995e-02 -3.31649989e-01  1.05879998e+00  3.85459989e-01\n",
            "   9.80809987e-01]\n",
            " [ 2.96189994e-01 -8.16890001e-02 -1.43969998e-01  6.04430020e-01\n",
            "   5.91899991e-01 -5.67670017e-02  1.06599998e+00 -4.70569998e-01\n",
            "   4.18320000e-01 -9.30090025e-02 -5.92530012e-01  1.00839996e+00\n",
            "  -2.58649993e+00  8.81250024e-01 -1.60740003e-01  1.98699996e-01\n",
            "   3.80089998e-01  8.15970004e-01  8.44079971e-01 -7.57130012e-02\n",
            "   2.99349993e-01 -4.45769995e-01 -2.80389994e-01 -8.52479994e-01\n",
            "  -6.96510017e-01]\n",
            " [-7.43650019e-01  2.91409999e-01 -2.42860004e-01  5.24169981e-01\n",
            "   8.16600025e-01  7.77270019e-01  3.51940006e-01  4.19679999e-01\n",
            "   5.90950012e-01 -6.77929997e-01 -3.45690012e-01  1.70629993e-01\n",
            "  -3.04010010e+00 -2.77379990e-01  8.00329983e-01  8.92210007e-01\n",
            "  -1.08530000e-01 -8.94280002e-02  4.01969999e-01  2.75310010e-01\n",
            "   6.69599995e-02 -3.31649989e-01  1.05879998e+00  3.85459989e-01\n",
            "   9.80809987e-01]]\n"
          ]
        }
      ]
    },
    {
      "cell_type": "markdown",
      "source": [
        "This list of numbers looks meaningless to us, but it contains a concise summary of the patient's orders in exactly the form that a deep network needs. This is not so strange. Consider that our brains receive information only in the form of patterns of action potentials from sensory organs. What we have created here is something like a sensory organ for a deep network, one that senses electronic health records directly."
      ],
      "metadata": {
        "id": "2XURMUIzMQp_"
      }
    }
  ]
}