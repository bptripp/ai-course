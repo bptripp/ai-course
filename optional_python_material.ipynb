{
  "nbformat": 4,
  "nbformat_minor": 0,
  "metadata": {
    "colab": {
      "provenance": [],
      "include_colab_link": true
    },
    "kernelspec": {
      "name": "python3",
      "display_name": "Python 3"
    },
    "language_info": {
      "name": "python"
    }
  },
  "cells": [
    {
      "cell_type": "markdown",
      "metadata": {
        "id": "view-in-github",
        "colab_type": "text"
      },
      "source": [
        "<a href=\"https://colab.research.google.com/github/bptripp/ai-course/blob/main/optional_python_material.ipynb\" target=\"_parent\"><img src=\"https://colab.research.google.com/assets/colab-badge.svg\" alt=\"Open In Colab\"/></a>"
      ]
    },
    {
      "cell_type": "markdown",
      "source": [
        "#Introduction\n",
        "This optional page offers additional introductory material on Python programming, which will enrich your understanding of the code examples.\n",
        "\n",
        "#Variables and Data Types\n",
        "Data, parameters, and other values in software are stored in named variabes. Variables can have different \"types\", such as text, numbers, etc. The type determines what kind of information can go in a variable, how a variable's value is encoded as bits in the computer's memory, and what can be done with a variable (e.g. whether it can be added to another variable).\n",
        "\n",
        "Important types in Python include strings (sequences of text characters), booleans (true or false values), integers, and floats (numbers with decimal points). The latter are called \"floats\" because the way their bits are organized allows the position of the decimal point to move, or float, to the appropriate position among a fixed number of significant digits.\n",
        "\n",
        "Each variable has a type, but (in contrast with many other languages) the programmer does not have to explicitly name the type in the code.\n",
        "\n",
        "A variable can have the special value \"None\", which essentially means that the variable's value is undefined.\n",
        "\n",
        "The code below creates variables and assigns values of different types to them. If curiosity gets the better of you, you can print a variable's type using the function \"type\", as below. You do not have to import this function from a package. It is one of the \"built-in\" functions that are always available in Python programs."
      ],
      "metadata": {
        "id": "FfisLlM-uHpw"
      }
    },
    {
      "cell_type": "code",
      "execution_count": 1,
      "metadata": {
        "colab": {
          "base_uri": "https://localhost:8080/"
        },
        "id": "jD5yhlh7t-6v",
        "outputId": "2347a01d-95b0-4c62-84e3-26f4de5790fb"
      },
      "outputs": [
        {
          "output_type": "stream",
          "name": "stdout",
          "text": [
            "<class 'float'>\n"
          ]
        }
      ],
      "source": [
        "s = 'hello'\n",
        "b = True\n",
        "i = 3\n",
        "x = 1.0\n",
        "y = None\n",
        "\n",
        "print(type(x))"
      ]
    },
    {
      "cell_type": "markdown",
      "source": [
        "# Formatting Output\n",
        "As we have already seen, you can show the values of variables using the \"print\" function. It is often useful to print messages that have multiple values, and Python has a syntax that lets you do that with a lot of flexibility. An example is shown below.\n",
        "\n",
        "You can exert a lot of control over the formatting by adding formatting specifications inside the curly braces (see https://docs.python.org/3.4/library/string.html#formatspec)."
      ],
      "metadata": {
        "id": "RTAtjgkXxQbA"
      }
    },
    {
      "cell_type": "code",
      "source": [
        "x = 1\n",
        "y = 2\n",
        "print('First {} then {}'.format(x, y))"
      ],
      "metadata": {
        "colab": {
          "base_uri": "https://localhost:8080/"
        },
        "id": "Nd1cFD6FyCgC",
        "outputId": "36f23287-d59c-4d90-f47e-ec22a1334c48"
      },
      "execution_count": null,
      "outputs": [
        {
          "output_type": "stream",
          "name": "stdout",
          "text": [
            "First 1 then 2\n"
          ]
        }
      ]
    },
    {
      "cell_type": "markdown",
      "source": [
        "Let's dissect that last line. We are calling the built-in function, \"print\". The print function requires an \"argument\" (a parameter), which carries the value that will be printed. The argument is inside the brackets. It is a string, 'First {} then {}'. Python does not pass that string to the print function directly. Each string in Python has a special kind of function associated with it, which is called \"format\". If you write a string, then a dot, then \"format\", Python calls that particular string's format function. The format function also has arguments, which are values to incorporate into the string. The format function produces a new string, which is similar to the original, but with the {} parts replaced with the arguments to the format function. It is that new string that is passed to the print function.\n",
        "\n",
        "# Loops and Conditionals\n",
        "We often need a computer to do the same thing over and over again, perhaps using different values each time. To program this repetitive behaviour, you must use a \"loop\". There are different varieties of loop, but the most common is called a \"for loop\". Try running the for loop below."
      ],
      "metadata": {
        "id": "cADZrSV1yOOg"
      }
    },
    {
      "cell_type": "code",
      "source": [
        "for letter in ('a', 'b', 'c'):\n",
        "  print(letter)"
      ],
      "metadata": {
        "colab": {
          "base_uri": "https://localhost:8080/"
        },
        "id": "rjnvqJc7zKvs",
        "outputId": "533d070d-ed14-46ee-89f8-9df6780fbc0f"
      },
      "execution_count": 2,
      "outputs": [
        {
          "output_type": "stream",
          "name": "stdout",
          "text": [
            "a\n",
            "b\n",
            "c\n"
          ]
        }
      ]
    },
    {
      "cell_type": "markdown",
      "source": [
        "Try adding something, such as 'd', to the list of things that are printed, and run it again. Similar to functions, any code that is indented following the \"for ...\" line of code is considered part of the loop. Try adding another indended line, \"print('hello'), after \"print(letter). Use your \\<tab> key to create the indendation. It is important to make the indendation the same for each line in the loop. Any following lines that are not indented will not be part of the loop. Here is an example."
      ],
      "metadata": {
        "id": "blfKEyYX1Nvb"
      }
    },
    {
      "cell_type": "code",
      "source": [
        "for letter in ('a', 'b', 'c'):\n",
        "  print(letter)\n",
        "  print('hello')\n",
        "print('goodbye')"
      ],
      "metadata": {
        "colab": {
          "base_uri": "https://localhost:8080/"
        },
        "id": "GceOKnsl2K6U",
        "outputId": "de0c1921-856a-4050-ce6e-1288d0a594ce"
      },
      "execution_count": null,
      "outputs": [
        {
          "output_type": "stream",
          "name": "stdout",
          "text": [
            "a\n",
            "hello\n",
            "b\n",
            "hello\n",
            "c\n",
            "hello\n",
            "goodbye\n"
          ]
        }
      ]
    },
    {
      "cell_type": "markdown",
      "source": [
        "Here is another example that combines string formatting, loops, and arithmetic."
      ],
      "metadata": {
        "id": "9TNcfcAB2bRD"
      }
    },
    {
      "cell_type": "code",
      "source": [
        "for i in range(11):\n",
        "  j = 10-i\n",
        "  print('i and j are {} and {}'.format(i,j))"
      ],
      "metadata": {
        "colab": {
          "base_uri": "https://localhost:8080/"
        },
        "id": "9HOSYtbP2p2A",
        "outputId": "e979c84a-c74c-4a3a-f2ad-a511119f9cb6"
      },
      "execution_count": null,
      "outputs": [
        {
          "output_type": "stream",
          "name": "stdout",
          "text": [
            "i and j are 0 and 10\n",
            "i and j are 1 and 9\n",
            "i and j are 2 and 8\n",
            "i and j are 3 and 7\n",
            "i and j are 4 and 6\n",
            "i and j are 5 and 5\n",
            "i and j are 6 and 4\n",
            "i and j are 7 and 3\n",
            "i and j are 8 and 2\n",
            "i and j are 9 and 1\n",
            "i and j are 10 and 0\n"
          ]
        }
      ]
    },
    {
      "cell_type": "markdown",
      "source": [
        "This code uses another built-in function, \"range\", which produces a series of integers from zero to one less than the argument. Why one less? There is a good rationale, but more importantly, it was a human decision that made sense to the designers of the function, who were experienced programmers. Language design decisions are a bit like rules of a sport. When you are starting out, just accept them and they will become intuitive soon enough.\n",
        "\n",
        "Sometimes, you will need a program to do either one thing or another, depending on the value of a variable. This is accomplished with conditional statements. Let's see an example."
      ],
      "metadata": {
        "id": "8jubhHI33G3O"
      }
    },
    {
      "cell_type": "code",
      "source": [
        "x = 1\n",
        "if x == 1:\n",
        "  print('x is one')\n",
        "elif x == 2:\n",
        "  print('x is two')\n",
        "else:\n",
        "  print('x is something else')"
      ],
      "metadata": {
        "colab": {
          "base_uri": "https://localhost:8080/"
        },
        "id": "UbkRmU0q7rAc",
        "outputId": "1c715f65-89df-4bf7-9dee-79b2df8a58c5"
      },
      "execution_count": null,
      "outputs": [
        {
          "output_type": "stream",
          "name": "stdout",
          "text": [
            "x is one\n"
          ]
        }
      ]
    },
    {
      "cell_type": "markdown",
      "source": [
        "Experiment with changing the value of x. Let's also consider a few details of syntax in this code. First, notice that it uses indentation to associate lines of code with each condition. This is consistent with the syntax of loops and functions. Second, notice the keywords \"if\", \"elif\", and \"else\". If the condition beside the \"if\" holds, then the indented line after it runs, and that's that. If not, the condition beside the \"elif\" is checked and if it holds then the associated indented code runs. If neither of those conditions holds, then the code under the \"else\" runs. Finally, notice the double-equals sign, \"==\". That is an operation that checks whether the things on each side are the same and produces a boolean \"True\" value if they are, or \"False\" otherwise. In contrast, the single \"=\" assigns the value on the left to the variable on the right, which is not what we want here.\n",
        "\n",
        "You can have multiple \"elif\" conditions, or none. You can also omit the \"else\" part. The examples below illustrate this."
      ],
      "metadata": {
        "id": "fMSHLK1X76KQ"
      }
    },
    {
      "cell_type": "code",
      "source": [
        "x = 1\n",
        "if x == 1:\n",
        "  print('x is one')\n",
        "\n",
        "x = 3\n",
        "if x == 1:\n",
        "  print('x is one')\n",
        "elif x == 2:\n",
        "  print('x is two')\n",
        "elif x == 3:\n",
        "  print('x is three')\n"
      ],
      "metadata": {
        "colab": {
          "base_uri": "https://localhost:8080/"
        },
        "id": "LvKxm-Zk-P7E",
        "outputId": "ff2335a9-621b-46fa-b765-7644fe80c55e"
      },
      "execution_count": null,
      "outputs": [
        {
          "output_type": "stream",
          "name": "stdout",
          "text": [
            "x is one\n",
            "x is three\n"
          ]
        }
      ]
    }
  ]
}