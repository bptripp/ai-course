{
  "nbformat": 4,
  "nbformat_minor": 0,
  "metadata": {
    "colab": {
      "provenance": [],
      "authorship_tag": "ABX9TyOtyjt5kDZEd0InLoH41KXE",
      "include_colab_link": true
    },
    "kernelspec": {
      "name": "python3",
      "display_name": "Python 3"
    },
    "language_info": {
      "name": "python"
    }
  },
  "cells": [
    {
      "cell_type": "markdown",
      "metadata": {
        "id": "view-in-github",
        "colab_type": "text"
      },
      "source": [
        "<a href=\"https://colab.research.google.com/github/bptripp/ai-course/blob/main/document_vector.ipynb\" target=\"_parent\"><img src=\"https://colab.research.google.com/assets/colab-badge.svg\" alt=\"Open In Colab\"/></a>"
      ]
    },
    {
      "cell_type": "markdown",
      "source": [
        "#Working with Unstructured Data\n",
        "Fundamentally, the input to any machine learning system is a list of numbers (a \"vector\", to use the mathematical term). For example, recall when we used a decision tree to predict heart disease. To get a prediction for any patient, we had to give the decision tree a list of numbers including age, a numerical code for sex, numerical results of various tests, etc. To use a convolutional network to detect pneumonia, we had to provide a chest x-ray image. An image is also a list of numbers: one for each pixel in a greyscale image; three or four for each pixel in a colour image. \n",
        "\n",
        "What if we want a machine learning system to make inferences from something less structured, like a hospital discharge letter? We need a way to convert the discharge letter into a vector. There are many ways to do this and some work better than others. \n",
        "\n",
        "Let's first consider how to assign vectors to individual words. A simple way to do this is called \"one-hot\" encoding. This involves defining a vocabulary of perhaps 10,000 important words. The vector for each word is mostly zeros, with a single 1 at the word's index in the vocabulary. To illustrate, let's make up a very simple vocabulary with eight words: hypertension, diabetes, hyperlipidemia, fibrillation, infection, anxiety, reflux, and pain. With this vocabulary, the one-hot code for hypertention would be [1, 0, 0, 0, 0, 0, 0, 0], the one-hot code for diabetes would be [0, 1, 0, 0, 0, 0, 0, 0], and so on. \n",
        "\n",
        "Here is some code to produce one-hot vectors:"
      ],
      "metadata": {
        "id": "0he5xMz5NFh7"
      }
    },
    {
      "cell_type": "code",
      "source": [
        "import numpy as np\n",
        "vocabulary = ['hypertension', 'diabetes', 'hyperlipidemia', 'fibrillation', 'infection', 'anxiety', 'reflux', 'pain']\n",
        "\n",
        "def make_word_vector(word):\n",
        "  vector = np.zeros(len(vocabulary)) # start with a vector of all zeros \n",
        "  if word in vocabulary: \n",
        "    vector[vocabulary.index(word)] = 1 # change the appropriate entry to 1\n",
        "  return vector  \n",
        "\n",
        "print(make_word_vector('fibrillation'))"
      ],
      "metadata": {
        "id": "3ec6uXAuNIGs"
      },
      "execution_count": null,
      "outputs": []
    },
    {
      "cell_type": "markdown",
      "source": [
        "Given vectors for each word, the simplest way to create a vector for a passage of text is to add up the vectors for the words in the text. For example, consider the discharge letter below. \n",
        "\n",
        "_This 79 year old woman was admitted with a complaint of recurrent chest pain. There is a background of ischaemic heart disease with previous myocardial infarction. Other history is of hypertension, cerebral vascular disease, type II diabetes mellitus and obesity. ECG showed sinus rhythm with old  infarction. There were no sequential changes and troponin was not raised.\n",
        "I felt that her symptoms were consistent with musculoskeletal origin._\n",
        "\n",
        "This note contains the following words from our small vocabulary: pain, hypertension, and diabetes. If we add up the vectors for each of these words, we get this vector: [1, 1, 0, 0, 0, 0, 0, 1]. This could serve as input to a decision tree or a neural network. Here is the code to create this vector. \n"
      ],
      "metadata": {
        "id": "yaHNkILDNOcw"
      }
    },
    {
      "cell_type": "code",
      "source": [
        "import re # this is a text processing library \n",
        "\n",
        "def make_note_vector(note):\n",
        "  note = re.sub('[^\\w ]', '', note) # discard punctuation (keep only word characters and spaces)\n",
        "  words = note.lower().split() # make a list of words (all lower-case)\n",
        "  \n",
        "  note_vector = np.zeros(len(vocabulary)) # start with a vector of zeros\n",
        "  for word in words: # loop through the words\n",
        "    note_vector = note_vector + make_word_vector(word) # add word vector to total\n",
        "  \n",
        "  return note_vector\n",
        "\n",
        "# To keep this example simple we paste the letter into a string.\n",
        "# In practice, we would read it from an electronic health record, perhaps using \n",
        "# a software package that performs HL7 FHIR or SQL database queries. \n",
        "note = \"This 79 year old woman was admitted with a complaint of recurrent chest pain. There is a background of ischaemic heart disease with previous myocardial infarction. Other history is of hypertension, cerebral vascular disease, type II diabetes mellitus and obesity. ECG showed sinus rhythm with old  infarction. There were no sequential changes and troponin was not raised. I felt that her symptoms were consistent with musculoskeletal origin.\"\n",
        "\n",
        "note_vector = make_note_vector(note)\n",
        "print(note_vector)\n"
      ],
      "metadata": {
        "id": "p4GqkPMQNSbP"
      },
      "execution_count": null,
      "outputs": []
    }
  ]
}