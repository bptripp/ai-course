{
  "nbformat": 4,
  "nbformat_minor": 0,
  "metadata": {
    "colab": {
      "provenance": [],
      "include_colab_link": true
    },
    "kernelspec": {
      "name": "python3",
      "display_name": "Python 3"
    },
    "language_info": {
      "name": "python"
    }
  },
  "cells": [
    {
      "cell_type": "markdown",
      "metadata": {
        "id": "view-in-github",
        "colab_type": "text"
      },
      "source": [
        "<a href=\"https://colab.research.google.com/github/bptripp/ai-course/blob/main/heart_disease_decision_tree.ipynb\" target=\"_parent\"><img src=\"https://colab.research.google.com/assets/colab-badge.svg\" alt=\"Open In Colab\"/></a>"
      ]
    },
    {
      "cell_type": "markdown",
      "source": [
        "# Using Decision Trees to Predict Heart Disease\n",
        "Like any machine-learning tool, decision trees need real-world examples to learn from. The 63-year-old male described in the module was based on a real patient of the Cleveland Clinic, part of the Cleveland Heart Disease dataset (https://archive.ics.uci.edu/ml/datasets/Heart+Disease), a dataset used in early experiments with automatic diagnosis. This dataset contains information about 303 patients.\n",
        "\n",
        "*Run the code cell below to download this dataset.*  \n"
      ],
      "metadata": {
        "id": "5XHe19FBkhgD"
      }
    },
    {
      "cell_type": "code",
      "source": [
        "!wget https://raw.githubusercontent.com/bptripp/ai-course/main/heart.csv"
      ],
      "metadata": {
        "id": "mWp58I79ywaN",
        "outputId": "903d5732-f28e-4139-e0a2-a75fc007e761",
        "colab": {
          "base_uri": "https://localhost:8080/"
        }
      },
      "execution_count": 4,
      "outputs": [
        {
          "output_type": "stream",
          "name": "stdout",
          "text": [
            "--2023-09-04 01:32:45--  https://raw.githubusercontent.com/bptripp/ai-course/main/heart.csv\n",
            "Resolving raw.githubusercontent.com (raw.githubusercontent.com)... 185.199.110.133, 185.199.109.133, 185.199.111.133, ...\n",
            "Connecting to raw.githubusercontent.com (raw.githubusercontent.com)|185.199.110.133|:443... connected.\n",
            "HTTP request sent, awaiting response... 200 OK\n",
            "Length: 11410 (11K) [text/plain]\n",
            "Saving to: ‘heart.csv’\n",
            "\n",
            "\rheart.csv             0%[                    ]       0  --.-KB/s               \rheart.csv           100%[===================>]  11.14K  --.-KB/s    in 0s      \n",
            "\n",
            "2023-09-04 01:32:45 (104 MB/s) - ‘heart.csv’ saved [11410/11410]\n",
            "\n"
          ]
        }
      ]
    },
    {
      "cell_type": "markdown",
      "source": [
        "You now have the dataset in a comma-separated value (CSV) file on this Google Colab server. You can see this file by clicking the folder icon at the left of the page. The next step is to open the file and read the data into the memory.  \n",
        "\n",
        "*Run the code below to read the data into memory. This code also prints the first few data records.*"
      ],
      "metadata": {
        "id": "6xlaguYqzQTp"
      }
    },
    {
      "cell_type": "code",
      "source": [
        "# With the first line of code below, we import \"pandas\", a popular package\n",
        "# of software functions that is useful for data processing. If you are curious,\n",
        "# you can learn more about pandas here: https://pandas.pydata.org/\n",
        "import pandas as pd\n",
        "\n",
        "data = pd.read_csv('heart.csv') # this line uses pandas to read data from the file\n",
        "data.head() # this line prints the first few data records"
      ],
      "metadata": {
        "colab": {
          "base_uri": "https://localhost:8080/",
          "height": 226
        },
        "id": "FVlHPYEMjMhJ",
        "outputId": "cade4cda-bd37-433e-d6e0-d9c905dd2ef2"
      },
      "execution_count": 5,
      "outputs": [
        {
          "output_type": "execute_result",
          "data": {
            "text/plain": [
              "   age  sex  pain_type  resting_bp  serum_chol  fasting_blood_sugar  rest_ecg  \\\n",
              "0   63    1          3         145         233                    1         0   \n",
              "1   37    1          2         130         250                    0         1   \n",
              "2   41    0          1         130         204                    0         0   \n",
              "3   56    1          1         120         236                    0         1   \n",
              "4   57    0          0         120         354                    0         1   \n",
              "\n",
              "   max_hr_thalach  exercise_angina  st_depression_ex_vs_rest  st_slope  \\\n",
              "0             150                0                       2.3         0   \n",
              "1             187                0                       3.5         0   \n",
              "2             172                0                       1.4         2   \n",
              "3             178                0                       0.8         2   \n",
              "4             163                1                       0.6         2   \n",
              "\n",
              "   vessels_coloured  defect  target  \n",
              "0                 0       1       1  \n",
              "1                 0       2       1  \n",
              "2                 0       2       1  \n",
              "3                 0       2       1  \n",
              "4                 0       2       1  "
            ],
            "text/html": [
              "\n",
              "  <div id=\"df-b212240a-c954-416a-ad71-39b6f45fe156\" class=\"colab-df-container\">\n",
              "    <div>\n",
              "<style scoped>\n",
              "    .dataframe tbody tr th:only-of-type {\n",
              "        vertical-align: middle;\n",
              "    }\n",
              "\n",
              "    .dataframe tbody tr th {\n",
              "        vertical-align: top;\n",
              "    }\n",
              "\n",
              "    .dataframe thead th {\n",
              "        text-align: right;\n",
              "    }\n",
              "</style>\n",
              "<table border=\"1\" class=\"dataframe\">\n",
              "  <thead>\n",
              "    <tr style=\"text-align: right;\">\n",
              "      <th></th>\n",
              "      <th>age</th>\n",
              "      <th>sex</th>\n",
              "      <th>pain_type</th>\n",
              "      <th>resting_bp</th>\n",
              "      <th>serum_chol</th>\n",
              "      <th>fasting_blood_sugar</th>\n",
              "      <th>rest_ecg</th>\n",
              "      <th>max_hr_thalach</th>\n",
              "      <th>exercise_angina</th>\n",
              "      <th>st_depression_ex_vs_rest</th>\n",
              "      <th>st_slope</th>\n",
              "      <th>vessels_coloured</th>\n",
              "      <th>defect</th>\n",
              "      <th>target</th>\n",
              "    </tr>\n",
              "  </thead>\n",
              "  <tbody>\n",
              "    <tr>\n",
              "      <th>0</th>\n",
              "      <td>63</td>\n",
              "      <td>1</td>\n",
              "      <td>3</td>\n",
              "      <td>145</td>\n",
              "      <td>233</td>\n",
              "      <td>1</td>\n",
              "      <td>0</td>\n",
              "      <td>150</td>\n",
              "      <td>0</td>\n",
              "      <td>2.3</td>\n",
              "      <td>0</td>\n",
              "      <td>0</td>\n",
              "      <td>1</td>\n",
              "      <td>1</td>\n",
              "    </tr>\n",
              "    <tr>\n",
              "      <th>1</th>\n",
              "      <td>37</td>\n",
              "      <td>1</td>\n",
              "      <td>2</td>\n",
              "      <td>130</td>\n",
              "      <td>250</td>\n",
              "      <td>0</td>\n",
              "      <td>1</td>\n",
              "      <td>187</td>\n",
              "      <td>0</td>\n",
              "      <td>3.5</td>\n",
              "      <td>0</td>\n",
              "      <td>0</td>\n",
              "      <td>2</td>\n",
              "      <td>1</td>\n",
              "    </tr>\n",
              "    <tr>\n",
              "      <th>2</th>\n",
              "      <td>41</td>\n",
              "      <td>0</td>\n",
              "      <td>1</td>\n",
              "      <td>130</td>\n",
              "      <td>204</td>\n",
              "      <td>0</td>\n",
              "      <td>0</td>\n",
              "      <td>172</td>\n",
              "      <td>0</td>\n",
              "      <td>1.4</td>\n",
              "      <td>2</td>\n",
              "      <td>0</td>\n",
              "      <td>2</td>\n",
              "      <td>1</td>\n",
              "    </tr>\n",
              "    <tr>\n",
              "      <th>3</th>\n",
              "      <td>56</td>\n",
              "      <td>1</td>\n",
              "      <td>1</td>\n",
              "      <td>120</td>\n",
              "      <td>236</td>\n",
              "      <td>0</td>\n",
              "      <td>1</td>\n",
              "      <td>178</td>\n",
              "      <td>0</td>\n",
              "      <td>0.8</td>\n",
              "      <td>2</td>\n",
              "      <td>0</td>\n",
              "      <td>2</td>\n",
              "      <td>1</td>\n",
              "    </tr>\n",
              "    <tr>\n",
              "      <th>4</th>\n",
              "      <td>57</td>\n",
              "      <td>0</td>\n",
              "      <td>0</td>\n",
              "      <td>120</td>\n",
              "      <td>354</td>\n",
              "      <td>0</td>\n",
              "      <td>1</td>\n",
              "      <td>163</td>\n",
              "      <td>1</td>\n",
              "      <td>0.6</td>\n",
              "      <td>2</td>\n",
              "      <td>0</td>\n",
              "      <td>2</td>\n",
              "      <td>1</td>\n",
              "    </tr>\n",
              "  </tbody>\n",
              "</table>\n",
              "</div>\n",
              "    <div class=\"colab-df-buttons\">\n",
              "\n",
              "  <div class=\"colab-df-container\">\n",
              "    <button class=\"colab-df-convert\" onclick=\"convertToInteractive('df-b212240a-c954-416a-ad71-39b6f45fe156')\"\n",
              "            title=\"Convert this dataframe to an interactive table.\"\n",
              "            style=\"display:none;\">\n",
              "\n",
              "  <svg xmlns=\"http://www.w3.org/2000/svg\" height=\"24px\" viewBox=\"0 -960 960 960\">\n",
              "    <path d=\"M120-120v-720h720v720H120Zm60-500h600v-160H180v160Zm220 220h160v-160H400v160Zm0 220h160v-160H400v160ZM180-400h160v-160H180v160Zm440 0h160v-160H620v160ZM180-180h160v-160H180v160Zm440 0h160v-160H620v160Z\"/>\n",
              "  </svg>\n",
              "    </button>\n",
              "\n",
              "  <style>\n",
              "    .colab-df-container {\n",
              "      display:flex;\n",
              "      gap: 12px;\n",
              "    }\n",
              "\n",
              "    .colab-df-convert {\n",
              "      background-color: #E8F0FE;\n",
              "      border: none;\n",
              "      border-radius: 50%;\n",
              "      cursor: pointer;\n",
              "      display: none;\n",
              "      fill: #1967D2;\n",
              "      height: 32px;\n",
              "      padding: 0 0 0 0;\n",
              "      width: 32px;\n",
              "    }\n",
              "\n",
              "    .colab-df-convert:hover {\n",
              "      background-color: #E2EBFA;\n",
              "      box-shadow: 0px 1px 2px rgba(60, 64, 67, 0.3), 0px 1px 3px 1px rgba(60, 64, 67, 0.15);\n",
              "      fill: #174EA6;\n",
              "    }\n",
              "\n",
              "    .colab-df-buttons div {\n",
              "      margin-bottom: 4px;\n",
              "    }\n",
              "\n",
              "    [theme=dark] .colab-df-convert {\n",
              "      background-color: #3B4455;\n",
              "      fill: #D2E3FC;\n",
              "    }\n",
              "\n",
              "    [theme=dark] .colab-df-convert:hover {\n",
              "      background-color: #434B5C;\n",
              "      box-shadow: 0px 1px 3px 1px rgba(0, 0, 0, 0.15);\n",
              "      filter: drop-shadow(0px 1px 2px rgba(0, 0, 0, 0.3));\n",
              "      fill: #FFFFFF;\n",
              "    }\n",
              "  </style>\n",
              "\n",
              "    <script>\n",
              "      const buttonEl =\n",
              "        document.querySelector('#df-b212240a-c954-416a-ad71-39b6f45fe156 button.colab-df-convert');\n",
              "      buttonEl.style.display =\n",
              "        google.colab.kernel.accessAllowed ? 'block' : 'none';\n",
              "\n",
              "      async function convertToInteractive(key) {\n",
              "        const element = document.querySelector('#df-b212240a-c954-416a-ad71-39b6f45fe156');\n",
              "        const dataTable =\n",
              "          await google.colab.kernel.invokeFunction('convertToInteractive',\n",
              "                                                    [key], {});\n",
              "        if (!dataTable) return;\n",
              "\n",
              "        const docLinkHtml = 'Like what you see? Visit the ' +\n",
              "          '<a target=\"_blank\" href=https://colab.research.google.com/notebooks/data_table.ipynb>data table notebook</a>'\n",
              "          + ' to learn more about interactive tables.';\n",
              "        element.innerHTML = '';\n",
              "        dataTable['output_type'] = 'display_data';\n",
              "        await google.colab.output.renderOutput(dataTable, element);\n",
              "        const docLink = document.createElement('div');\n",
              "        docLink.innerHTML = docLinkHtml;\n",
              "        element.appendChild(docLink);\n",
              "      }\n",
              "    </script>\n",
              "  </div>\n",
              "\n",
              "\n",
              "<div id=\"df-95e981a0-78f9-4eea-9fca-ac0bc2308e4b\">\n",
              "  <button class=\"colab-df-quickchart\" onclick=\"quickchart('df-95e981a0-78f9-4eea-9fca-ac0bc2308e4b')\"\n",
              "            title=\"Suggest charts.\"\n",
              "            style=\"display:none;\">\n",
              "\n",
              "<svg xmlns=\"http://www.w3.org/2000/svg\" height=\"24px\"viewBox=\"0 0 24 24\"\n",
              "     width=\"24px\">\n",
              "    <g>\n",
              "        <path d=\"M19 3H5c-1.1 0-2 .9-2 2v14c0 1.1.9 2 2 2h14c1.1 0 2-.9 2-2V5c0-1.1-.9-2-2-2zM9 17H7v-7h2v7zm4 0h-2V7h2v10zm4 0h-2v-4h2v4z\"/>\n",
              "    </g>\n",
              "</svg>\n",
              "  </button>\n",
              "\n",
              "<style>\n",
              "  .colab-df-quickchart {\n",
              "      --bg-color: #E8F0FE;\n",
              "      --fill-color: #1967D2;\n",
              "      --hover-bg-color: #E2EBFA;\n",
              "      --hover-fill-color: #174EA6;\n",
              "      --disabled-fill-color: #AAA;\n",
              "      --disabled-bg-color: #DDD;\n",
              "  }\n",
              "\n",
              "  [theme=dark] .colab-df-quickchart {\n",
              "      --bg-color: #3B4455;\n",
              "      --fill-color: #D2E3FC;\n",
              "      --hover-bg-color: #434B5C;\n",
              "      --hover-fill-color: #FFFFFF;\n",
              "      --disabled-bg-color: #3B4455;\n",
              "      --disabled-fill-color: #666;\n",
              "  }\n",
              "\n",
              "  .colab-df-quickchart {\n",
              "    background-color: var(--bg-color);\n",
              "    border: none;\n",
              "    border-radius: 50%;\n",
              "    cursor: pointer;\n",
              "    display: none;\n",
              "    fill: var(--fill-color);\n",
              "    height: 32px;\n",
              "    padding: 0;\n",
              "    width: 32px;\n",
              "  }\n",
              "\n",
              "  .colab-df-quickchart:hover {\n",
              "    background-color: var(--hover-bg-color);\n",
              "    box-shadow: 0 1px 2px rgba(60, 64, 67, 0.3), 0 1px 3px 1px rgba(60, 64, 67, 0.15);\n",
              "    fill: var(--button-hover-fill-color);\n",
              "  }\n",
              "\n",
              "  .colab-df-quickchart-complete:disabled,\n",
              "  .colab-df-quickchart-complete:disabled:hover {\n",
              "    background-color: var(--disabled-bg-color);\n",
              "    fill: var(--disabled-fill-color);\n",
              "    box-shadow: none;\n",
              "  }\n",
              "\n",
              "  .colab-df-spinner {\n",
              "    border: 2px solid var(--fill-color);\n",
              "    border-color: transparent;\n",
              "    border-bottom-color: var(--fill-color);\n",
              "    animation:\n",
              "      spin 1s steps(1) infinite;\n",
              "  }\n",
              "\n",
              "  @keyframes spin {\n",
              "    0% {\n",
              "      border-color: transparent;\n",
              "      border-bottom-color: var(--fill-color);\n",
              "      border-left-color: var(--fill-color);\n",
              "    }\n",
              "    20% {\n",
              "      border-color: transparent;\n",
              "      border-left-color: var(--fill-color);\n",
              "      border-top-color: var(--fill-color);\n",
              "    }\n",
              "    30% {\n",
              "      border-color: transparent;\n",
              "      border-left-color: var(--fill-color);\n",
              "      border-top-color: var(--fill-color);\n",
              "      border-right-color: var(--fill-color);\n",
              "    }\n",
              "    40% {\n",
              "      border-color: transparent;\n",
              "      border-right-color: var(--fill-color);\n",
              "      border-top-color: var(--fill-color);\n",
              "    }\n",
              "    60% {\n",
              "      border-color: transparent;\n",
              "      border-right-color: var(--fill-color);\n",
              "    }\n",
              "    80% {\n",
              "      border-color: transparent;\n",
              "      border-right-color: var(--fill-color);\n",
              "      border-bottom-color: var(--fill-color);\n",
              "    }\n",
              "    90% {\n",
              "      border-color: transparent;\n",
              "      border-bottom-color: var(--fill-color);\n",
              "    }\n",
              "  }\n",
              "</style>\n",
              "\n",
              "  <script>\n",
              "    async function quickchart(key) {\n",
              "      const quickchartButtonEl =\n",
              "        document.querySelector('#' + key + ' button');\n",
              "      quickchartButtonEl.disabled = true;  // To prevent multiple clicks.\n",
              "      quickchartButtonEl.classList.add('colab-df-spinner');\n",
              "      try {\n",
              "        const charts = await google.colab.kernel.invokeFunction(\n",
              "            'suggestCharts', [key], {});\n",
              "      } catch (error) {\n",
              "        console.error('Error during call to suggestCharts:', error);\n",
              "      }\n",
              "      quickchartButtonEl.classList.remove('colab-df-spinner');\n",
              "      quickchartButtonEl.classList.add('colab-df-quickchart-complete');\n",
              "    }\n",
              "    (() => {\n",
              "      let quickchartButtonEl =\n",
              "        document.querySelector('#df-95e981a0-78f9-4eea-9fca-ac0bc2308e4b button');\n",
              "      quickchartButtonEl.style.display =\n",
              "        google.colab.kernel.accessAllowed ? 'block' : 'none';\n",
              "    })();\n",
              "  </script>\n",
              "</div>\n",
              "    </div>\n",
              "  </div>\n"
            ]
          },
          "metadata": {},
          "execution_count": 5
        }
      ]
    },
    {
      "cell_type": "markdown",
      "source": [
        "The first 13 columns of data are patient demographics and results of non-invasive tests, which we will use for prediction. The final column gives the actual result of an angiogram (1 if there is >50% luminal narrowing of any major epicardial vessel, or 0 otherwise). You will use these examples to create a decision tree that predicts coronary artery disease (the last column) given the information in the other columns.\n",
        "\n",
        "In fact, you need this dataset for two different and complementary purposes. You will use some of the examples in the dataset to train the decision tree. This will set the tree's parameters so that it makes predictions that are as consistent as possible with these examples. However, as you learned in Module 03, you must also withhold some of the data for a validation set, so that you can check how well the tree generalizes to examples that it didn't encounter during training. This will give you some indication of how it might perform with new examples in the real world.\n",
        "\n",
        "*Run the code below to split the dataset into two groups of examples: a larger group for training and a smaller group for testing.*"
      ],
      "metadata": {
        "id": "KxWUV2Litlhh"
      }
    },
    {
      "cell_type": "code",
      "source": [
        "# This code imports a function from the scikit-learn package\n",
        "# (https://scikit-learn.org/stable/).\n",
        "from sklearn.model_selection import train_test_split\n",
        "\n",
        "predictors = data.iloc[:, 0:13] # this puts the columns that will serve as inputs in a new variable\n",
        "ground_truth = data.iloc[:, -1] # the last column is \"ground truth\" CAD from the angiogram\n",
        "\n",
        "# Scikit-learn provides a function that splits the data so that we\n",
        "# can use some of it to train the decision tree and the rest to test it.\n",
        "# To avoid long variable names, this code uses the short form \"p\" for predictors\n",
        "# and \"gt\" for ground truth.\n",
        "training_p, testing_p, training_gt, testing_gt = train_test_split(predictors, ground_truth, test_size = 0.20, random_state = 0)"
      ],
      "metadata": {
        "id": "-_jFeqoGj4ow"
      },
      "execution_count": 7,
      "outputs": []
    },
    {
      "cell_type": "markdown",
      "source": [
        "You are now ready to train the decision tree, using the predictor columns of the examples you are using for training (the p_train variable) and the correct diagnoses for those examples (the gt_train variable).\n",
        "\n",
        "*Run the code below to train the decision tree on the training data.*"
      ],
      "metadata": {
        "id": "U5jldHs60mVB"
      }
    },
    {
      "cell_type": "code",
      "source": [
        "# This imports decision-tree code from scikit-learn.\n",
        "from sklearn.tree import DecisionTreeClassifier\n",
        "\n",
        "# To keep the tree simple and interpretable, the argument max_depth=2 limits the\n",
        "# length of each branch to two decisions.\n",
        "dt = DecisionTreeClassifier(max_depth=2)\n",
        "\n",
        "# The variable \"dt\" is now an untrained decision tree. This line trains it on the\n",
        "# training data.\n",
        "dt.fit(training_p, training_gt)\n",
        "\n"
      ],
      "metadata": {
        "id": "q51N2vdkVptu",
        "outputId": "bb9b5882-2482-4032-b374-3792f5991d55",
        "colab": {
          "base_uri": "https://localhost:8080/",
          "height": 75
        }
      },
      "execution_count": 10,
      "outputs": [
        {
          "output_type": "execute_result",
          "data": {
            "text/plain": [
              "DecisionTreeClassifier(max_depth=2)"
            ],
            "text/html": [
              "<style>#sk-container-id-1 {color: black;background-color: white;}#sk-container-id-1 pre{padding: 0;}#sk-container-id-1 div.sk-toggleable {background-color: white;}#sk-container-id-1 label.sk-toggleable__label {cursor: pointer;display: block;width: 100%;margin-bottom: 0;padding: 0.3em;box-sizing: border-box;text-align: center;}#sk-container-id-1 label.sk-toggleable__label-arrow:before {content: \"▸\";float: left;margin-right: 0.25em;color: #696969;}#sk-container-id-1 label.sk-toggleable__label-arrow:hover:before {color: black;}#sk-container-id-1 div.sk-estimator:hover label.sk-toggleable__label-arrow:before {color: black;}#sk-container-id-1 div.sk-toggleable__content {max-height: 0;max-width: 0;overflow: hidden;text-align: left;background-color: #f0f8ff;}#sk-container-id-1 div.sk-toggleable__content pre {margin: 0.2em;color: black;border-radius: 0.25em;background-color: #f0f8ff;}#sk-container-id-1 input.sk-toggleable__control:checked~div.sk-toggleable__content {max-height: 200px;max-width: 100%;overflow: auto;}#sk-container-id-1 input.sk-toggleable__control:checked~label.sk-toggleable__label-arrow:before {content: \"▾\";}#sk-container-id-1 div.sk-estimator input.sk-toggleable__control:checked~label.sk-toggleable__label {background-color: #d4ebff;}#sk-container-id-1 div.sk-label input.sk-toggleable__control:checked~label.sk-toggleable__label {background-color: #d4ebff;}#sk-container-id-1 input.sk-hidden--visually {border: 0;clip: rect(1px 1px 1px 1px);clip: rect(1px, 1px, 1px, 1px);height: 1px;margin: -1px;overflow: hidden;padding: 0;position: absolute;width: 1px;}#sk-container-id-1 div.sk-estimator {font-family: monospace;background-color: #f0f8ff;border: 1px dotted black;border-radius: 0.25em;box-sizing: border-box;margin-bottom: 0.5em;}#sk-container-id-1 div.sk-estimator:hover {background-color: #d4ebff;}#sk-container-id-1 div.sk-parallel-item::after {content: \"\";width: 100%;border-bottom: 1px solid gray;flex-grow: 1;}#sk-container-id-1 div.sk-label:hover label.sk-toggleable__label {background-color: #d4ebff;}#sk-container-id-1 div.sk-serial::before {content: \"\";position: absolute;border-left: 1px solid gray;box-sizing: border-box;top: 0;bottom: 0;left: 50%;z-index: 0;}#sk-container-id-1 div.sk-serial {display: flex;flex-direction: column;align-items: center;background-color: white;padding-right: 0.2em;padding-left: 0.2em;position: relative;}#sk-container-id-1 div.sk-item {position: relative;z-index: 1;}#sk-container-id-1 div.sk-parallel {display: flex;align-items: stretch;justify-content: center;background-color: white;position: relative;}#sk-container-id-1 div.sk-item::before, #sk-container-id-1 div.sk-parallel-item::before {content: \"\";position: absolute;border-left: 1px solid gray;box-sizing: border-box;top: 0;bottom: 0;left: 50%;z-index: -1;}#sk-container-id-1 div.sk-parallel-item {display: flex;flex-direction: column;z-index: 1;position: relative;background-color: white;}#sk-container-id-1 div.sk-parallel-item:first-child::after {align-self: flex-end;width: 50%;}#sk-container-id-1 div.sk-parallel-item:last-child::after {align-self: flex-start;width: 50%;}#sk-container-id-1 div.sk-parallel-item:only-child::after {width: 0;}#sk-container-id-1 div.sk-dashed-wrapped {border: 1px dashed gray;margin: 0 0.4em 0.5em 0.4em;box-sizing: border-box;padding-bottom: 0.4em;background-color: white;}#sk-container-id-1 div.sk-label label {font-family: monospace;font-weight: bold;display: inline-block;line-height: 1.2em;}#sk-container-id-1 div.sk-label-container {text-align: center;}#sk-container-id-1 div.sk-container {/* jupyter's `normalize.less` sets `[hidden] { display: none; }` but bootstrap.min.css set `[hidden] { display: none !important; }` so we also need the `!important` here to be able to override the default hidden behavior on the sphinx rendered scikit-learn.org. See: https://github.com/scikit-learn/scikit-learn/issues/21755 */display: inline-block !important;position: relative;}#sk-container-id-1 div.sk-text-repr-fallback {display: none;}</style><div id=\"sk-container-id-1\" class=\"sk-top-container\"><div class=\"sk-text-repr-fallback\"><pre>DecisionTreeClassifier(max_depth=2)</pre><b>In a Jupyter environment, please rerun this cell to show the HTML representation or trust the notebook. <br />On GitHub, the HTML representation is unable to render, please try loading this page with nbviewer.org.</b></div><div class=\"sk-container\" hidden><div class=\"sk-item\"><div class=\"sk-estimator sk-toggleable\"><input class=\"sk-toggleable__control sk-hidden--visually\" id=\"sk-estimator-id-1\" type=\"checkbox\" checked><label for=\"sk-estimator-id-1\" class=\"sk-toggleable__label sk-toggleable__label-arrow\">DecisionTreeClassifier</label><div class=\"sk-toggleable__content\"><pre>DecisionTreeClassifier(max_depth=2)</pre></div></div></div></div></div>"
            ]
          },
          "metadata": {},
          "execution_count": 10
        }
      ]
    },
    {
      "cell_type": "markdown",
      "source": [
        "*Run the cell below to get the decision tree to generate predictions for the examples in the held-out test dataset.*"
      ],
      "metadata": {
        "id": "RcBXza0t2l5o"
      }
    },
    {
      "cell_type": "code",
      "source": [
        "predictions = dt.predict(testing_p)"
      ],
      "metadata": {
        "id": "gfD4eLxS2p2c"
      },
      "execution_count": 11,
      "outputs": []
    },
    {
      "cell_type": "markdown",
      "source": [
        "The suspense is killing you. How accurate were the predictions you just generated? One useful way to assess that is to view a \"confusion matrix\". This shows how many of the test examples fell into each of four possible categories: heart disease that was accurately predicted as such, lack of heart disease that was accurately predicted as such, and errors in each direction."
      ],
      "metadata": {
        "id": "ErhLjLmh4JL_"
      }
    },
    {
      "cell_type": "code",
      "source": [
        "from sklearn import metrics # using scikit-learn again\n",
        "\n",
        "# This line counts the numbers of test examples in each correct and incorrect category.\n",
        "confusion_matrix = metrics.confusion_matrix(testing_gt, predictions)\n",
        "\n",
        "# These two lines show the result graphically.\n",
        "display = metrics.ConfusionMatrixDisplay(confusion_matrix, display_labels=['no heart disease','heart disease'])\n",
        "display.plot()"
      ],
      "metadata": {
        "colab": {
          "base_uri": "https://localhost:8080/",
          "height": 467
        },
        "id": "Pz0fqmBdVz67",
        "outputId": "f13a1ac8-37f1-4521-e496-4030b92ca2be"
      },
      "execution_count": 12,
      "outputs": [
        {
          "output_type": "execute_result",
          "data": {
            "text/plain": [
              "<sklearn.metrics._plot.confusion_matrix.ConfusionMatrixDisplay at 0x7c621decf280>"
            ]
          },
          "metadata": {},
          "execution_count": 12
        },
        {
          "output_type": "display_data",
          "data": {
            "text/plain": [
              "<Figure size 640x480 with 2 Axes>"
            ],
            "image/png": "[encoded data removed]"
          },
          "metadata": {}
        }
      ]
    },
    {
      "cell_type": "markdown",
      "source": [
        "The decision tree does a relatively good job of predicting heart disease in patients who actually have it. However, the false negatives are dangerous. It may be possible to make the tree more accurate by making it larger and/or using a larger dataset with more examples. To more specifically reduce the risk of false negatives, one could also reduce the threshold for a positive prediction. This would increase the number false positives (increasing resource usage) but reduce the false negatives (reducing the risk of missing something important).\n",
        "\n",
        "An advantage of decision trees over more complex machine-learning approaches is that one can inspect them to see how they make decisions. This is especially practical in the current example because the tree has been constrained to have a depth of two - a very simple structure.\n",
        "\n",
        "*Run the code below to show a depiction of the decision tree's structure.*"
      ],
      "metadata": {
        "id": "GoGZ6WD16H30"
      }
    },
    {
      "cell_type": "code",
      "source": [
        "from sklearn.tree import plot_tree\n",
        "\n",
        "plot_tree(dt, class_names=('None', 'Heart disease'), feature_names=list(predictors), impurity=False)"
      ],
      "metadata": {
        "colab": {
          "base_uri": "https://localhost:8080/",
          "height": 531
        },
        "id": "y431HUj-V5pi",
        "outputId": "35fc8cb3-a94b-4033-b18a-51920a7151fd"
      },
      "execution_count": 13,
      "outputs": [
        {
          "output_type": "execute_result",
          "data": {
            "text/plain": [
              "[Text(0.5, 0.8333333333333334, 'pain_type <= 0.5\\nsamples = 242\\nvalue = [111, 131]\\nclass = Heart disease'),\n",
              " Text(0.25, 0.5, 'vessels_coloured <= 0.5\\nsamples = 117\\nvalue = [84, 33]\\nclass = None'),\n",
              " Text(0.125, 0.16666666666666666, 'samples = 54\\nvalue = [24, 30]\\nclass = Heart disease'),\n",
              " Text(0.375, 0.16666666666666666, 'samples = 63\\nvalue = [60, 3]\\nclass = None'),\n",
              " Text(0.75, 0.5, 'sex <= 0.5\\nsamples = 125\\nvalue = [27, 98]\\nclass = Heart disease'),\n",
              " Text(0.625, 0.16666666666666666, 'samples = 47\\nvalue = [1, 46]\\nclass = Heart disease'),\n",
              " Text(0.875, 0.16666666666666666, 'samples = 78\\nvalue = [26, 52]\\nclass = Heart disease')]"
            ]
          },
          "metadata": {},
          "execution_count": 13
        },
        {
          "output_type": "display_data",
          "data": {
            "text/plain": [
              "<Figure size 640x480 with 1 Axes>"
            ],
            "image/png": "[encoded data removed]"
          },
          "metadata": {}
        }
      ]
    },
    {
      "cell_type": "markdown",
      "source": [
        "The arrows coming from each box indicate alternate decisions based on the value of a predictor.\n",
        "\n",
        "Look at the top box first. The top line of text in this box describes the first decision the tree makes: if the patient's angina code is 0 (no angina) the tree takes the left branch. The second line shows the number of examples at that point in the tree (the 242 training examples). The third gives the numbers in each category (111 without heart disease and 131 with). The fourth shows the majority category at that point in the tree.\n",
        "\n",
        "By inspecting this decision tree you can see exactly how it has learned to make predictions. Unfortunately, there tends to be a trade-off between classifiers' scrutability and their performance. Later in this module, you will learn about variations of decision trees that tend to be more accurate but also more opaque."
      ],
      "metadata": {
        "id": "BDLERI5r71_x"
      }
    }
  ]
}