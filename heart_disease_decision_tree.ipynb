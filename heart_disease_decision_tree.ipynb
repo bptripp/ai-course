{
  "nbformat": 4,
  "nbformat_minor": 0,
  "metadata": {
    "colab": {
      "provenance": [],
      "authorship_tag": "ABX9TyPc9r0ZY3NI2VmiO1YldyT9",
      "include_colab_link": true
    },
    "kernelspec": {
      "name": "python3",
      "display_name": "Python 3"
    },
    "language_info": {
      "name": "python"
    }
  },
  "cells": [
    {
      "cell_type": "markdown",
      "metadata": {
        "id": "view-in-github",
        "colab_type": "text"
      },
      "source": [
        "<a href=\"https://colab.research.google.com/github/bptripp/ai-course/blob/main/heart_disease_decision_tree.ipynb\" target=\"_parent\"><img src=\"https://colab.research.google.com/assets/colab-badge.svg\" alt=\"Open In Colab\"/></a>"
      ]
    },
    {
      "cell_type": "markdown",
      "source": [
        "# Using Decision Trees to Predict Heart Disease\n",
        "Does the patient before you have coronary artery disease? He is 63 years old. A recent blood pressure was 145/90mmHg. His serum cholesterol is borderline, and fasting blood sugar is in the diabetic range. Resting ECG is normal. He has had a thallium stress test, exercise ECG, and fluoroscopy for coronary calcium. His peak exercise ST segment was upsloping with depression relative to rest of 2.3mm. The thallium test showed a fixed defect. No major vessels were coloured by flourosopy. \n",
        "\n",
        "You suspect coronary artery disease and order an angiogram. We will now see how to train a decision tree to make the same inference. \n",
        "\n",
        "Our simple decision tree will not be accurate enough to have clinical value. However, to develop a more powerful tool, we would use essentially the same process as outlined below. (The main differences: we would want more data, we would spend more time getting the technical details just right, and we would spend lots of time assessing its performance in the real world before allowing it to affect practice.)  \n",
        "\n",
        "Like any machine-learning tool, decision trees need real-world examples to learn from. The description above was based on a real patient of the Cleveland Clinic, part of the Cleveland Heart Disease Data Set (https://archive.ics.uci.edu/ml/datasets/Heart+Disease), a dataset used in early experiments with automatic diagnosis. This dataset contains information about 303 patients. We have the dataset in a comma-separated value file. Our first step is to open the file and read the data into memory. We will also print the first few rows of data. Click the \"play\" button (the triangle) in the next cell to run this code. "
      ],
      "metadata": {
        "id": "5XHe19FBkhgD"
      }
    },
    {
      "cell_type": "code",
      "source": [
        "# With the first line of code below, we import \"pandas\", a popular package \n",
        "# of software functions that is useful for data processing. If you are curious, \n",
        "# you can learn more about pandas here: https://pandas.pydata.org/ \n",
        "import pandas as pd \n",
        "\n",
        "data = pd.read_csv('heart.csv') # here we use pandas to read data from the file \n",
        "data.head() # this line prints the first few data records "
      ],
      "metadata": {
        "colab": {
          "base_uri": "https://localhost:8080/",
          "height": 389
        },
        "id": "FVlHPYEMjMhJ",
        "outputId": "889c69bb-6b5d-4af5-dda6-e46c6bc3f24a"
      },
      "execution_count": null,
      "outputs": [
        {
          "output_type": "error",
          "ename": "FileNotFoundError",
          "evalue": "ignored",
          "traceback": [
            "\u001b[0;31m---------------------------------------------------------------------------\u001b[0m",
            "\u001b[0;31mFileNotFoundError\u001b[0m                         Traceback (most recent call last)",
            "\u001b[0;32m<ipython-input-1-995cd4a0c6cd>\u001b[0m in \u001b[0;36m<module>\u001b[0;34m()\u001b[0m\n\u001b[1;32m      4\u001b[0m \u001b[0;32mimport\u001b[0m \u001b[0mpandas\u001b[0m \u001b[0;32mas\u001b[0m \u001b[0mpd\u001b[0m\u001b[0;34m\u001b[0m\u001b[0;34m\u001b[0m\u001b[0m\n\u001b[1;32m      5\u001b[0m \u001b[0;34m\u001b[0m\u001b[0m\n\u001b[0;32m----> 6\u001b[0;31m \u001b[0mdata\u001b[0m \u001b[0;34m=\u001b[0m \u001b[0mpd\u001b[0m\u001b[0;34m.\u001b[0m\u001b[0mread_csv\u001b[0m\u001b[0;34m(\u001b[0m\u001b[0;34m'heart.csv'\u001b[0m\u001b[0;34m)\u001b[0m \u001b[0;31m# here we use pandas to read data from the file\u001b[0m\u001b[0;34m\u001b[0m\u001b[0;34m\u001b[0m\u001b[0m\n\u001b[0m\u001b[1;32m      7\u001b[0m \u001b[0mdata\u001b[0m\u001b[0;34m.\u001b[0m\u001b[0mhead\u001b[0m\u001b[0;34m(\u001b[0m\u001b[0;34m)\u001b[0m \u001b[0;31m# this line prints the first few data records\u001b[0m\u001b[0;34m\u001b[0m\u001b[0;34m\u001b[0m\u001b[0m\n",
            "\u001b[0;32m/usr/local/lib/python3.7/dist-packages/pandas/util/_decorators.py\u001b[0m in \u001b[0;36mwrapper\u001b[0;34m(*args, **kwargs)\u001b[0m\n\u001b[1;32m    309\u001b[0m                     \u001b[0mstacklevel\u001b[0m\u001b[0;34m=\u001b[0m\u001b[0mstacklevel\u001b[0m\u001b[0;34m,\u001b[0m\u001b[0;34m\u001b[0m\u001b[0;34m\u001b[0m\u001b[0m\n\u001b[1;32m    310\u001b[0m                 )\n\u001b[0;32m--> 311\u001b[0;31m             \u001b[0;32mreturn\u001b[0m \u001b[0mfunc\u001b[0m\u001b[0;34m(\u001b[0m\u001b[0;34m*\u001b[0m\u001b[0margs\u001b[0m\u001b[0;34m,\u001b[0m \u001b[0;34m**\u001b[0m\u001b[0mkwargs\u001b[0m\u001b[0;34m)\u001b[0m\u001b[0;34m\u001b[0m\u001b[0;34m\u001b[0m\u001b[0m\n\u001b[0m\u001b[1;32m    312\u001b[0m \u001b[0;34m\u001b[0m\u001b[0m\n\u001b[1;32m    313\u001b[0m         \u001b[0;32mreturn\u001b[0m \u001b[0mwrapper\u001b[0m\u001b[0;34m\u001b[0m\u001b[0;34m\u001b[0m\u001b[0m\n",
            "\u001b[0;32m/usr/local/lib/python3.7/dist-packages/pandas/io/parsers/readers.py\u001b[0m in \u001b[0;36mread_csv\u001b[0;34m(filepath_or_buffer, sep, delimiter, header, names, index_col, usecols, squeeze, prefix, mangle_dupe_cols, dtype, engine, converters, true_values, false_values, skipinitialspace, skiprows, skipfooter, nrows, na_values, keep_default_na, na_filter, verbose, skip_blank_lines, parse_dates, infer_datetime_format, keep_date_col, date_parser, dayfirst, cache_dates, iterator, chunksize, compression, thousands, decimal, lineterminator, quotechar, quoting, doublequote, escapechar, comment, encoding, encoding_errors, dialect, error_bad_lines, warn_bad_lines, on_bad_lines, delim_whitespace, low_memory, memory_map, float_precision, storage_options)\u001b[0m\n\u001b[1;32m    584\u001b[0m     \u001b[0mkwds\u001b[0m\u001b[0;34m.\u001b[0m\u001b[0mupdate\u001b[0m\u001b[0;34m(\u001b[0m\u001b[0mkwds_defaults\u001b[0m\u001b[0;34m)\u001b[0m\u001b[0;34m\u001b[0m\u001b[0;34m\u001b[0m\u001b[0m\n\u001b[1;32m    585\u001b[0m \u001b[0;34m\u001b[0m\u001b[0m\n\u001b[0;32m--> 586\u001b[0;31m     \u001b[0;32mreturn\u001b[0m \u001b[0m_read\u001b[0m\u001b[0;34m(\u001b[0m\u001b[0mfilepath_or_buffer\u001b[0m\u001b[0;34m,\u001b[0m \u001b[0mkwds\u001b[0m\u001b[0;34m)\u001b[0m\u001b[0;34m\u001b[0m\u001b[0;34m\u001b[0m\u001b[0m\n\u001b[0m\u001b[1;32m    587\u001b[0m \u001b[0;34m\u001b[0m\u001b[0m\n\u001b[1;32m    588\u001b[0m \u001b[0;34m\u001b[0m\u001b[0m\n",
            "\u001b[0;32m/usr/local/lib/python3.7/dist-packages/pandas/io/parsers/readers.py\u001b[0m in \u001b[0;36m_read\u001b[0;34m(filepath_or_buffer, kwds)\u001b[0m\n\u001b[1;32m    480\u001b[0m \u001b[0;34m\u001b[0m\u001b[0m\n\u001b[1;32m    481\u001b[0m     \u001b[0;31m# Create the parser.\u001b[0m\u001b[0;34m\u001b[0m\u001b[0;34m\u001b[0m\u001b[0;34m\u001b[0m\u001b[0m\n\u001b[0;32m--> 482\u001b[0;31m     \u001b[0mparser\u001b[0m \u001b[0;34m=\u001b[0m \u001b[0mTextFileReader\u001b[0m\u001b[0;34m(\u001b[0m\u001b[0mfilepath_or_buffer\u001b[0m\u001b[0;34m,\u001b[0m \u001b[0;34m**\u001b[0m\u001b[0mkwds\u001b[0m\u001b[0;34m)\u001b[0m\u001b[0;34m\u001b[0m\u001b[0;34m\u001b[0m\u001b[0m\n\u001b[0m\u001b[1;32m    483\u001b[0m \u001b[0;34m\u001b[0m\u001b[0m\n\u001b[1;32m    484\u001b[0m     \u001b[0;32mif\u001b[0m \u001b[0mchunksize\u001b[0m \u001b[0;32mor\u001b[0m \u001b[0miterator\u001b[0m\u001b[0;34m:\u001b[0m\u001b[0;34m\u001b[0m\u001b[0;34m\u001b[0m\u001b[0m\n",
            "\u001b[0;32m/usr/local/lib/python3.7/dist-packages/pandas/io/parsers/readers.py\u001b[0m in \u001b[0;36m__init__\u001b[0;34m(self, f, engine, **kwds)\u001b[0m\n\u001b[1;32m    809\u001b[0m             \u001b[0mself\u001b[0m\u001b[0;34m.\u001b[0m\u001b[0moptions\u001b[0m\u001b[0;34m[\u001b[0m\u001b[0;34m\"has_index_names\"\u001b[0m\u001b[0;34m]\u001b[0m \u001b[0;34m=\u001b[0m \u001b[0mkwds\u001b[0m\u001b[0;34m[\u001b[0m\u001b[0;34m\"has_index_names\"\u001b[0m\u001b[0;34m]\u001b[0m\u001b[0;34m\u001b[0m\u001b[0;34m\u001b[0m\u001b[0m\n\u001b[1;32m    810\u001b[0m \u001b[0;34m\u001b[0m\u001b[0m\n\u001b[0;32m--> 811\u001b[0;31m         \u001b[0mself\u001b[0m\u001b[0;34m.\u001b[0m\u001b[0m_engine\u001b[0m \u001b[0;34m=\u001b[0m \u001b[0mself\u001b[0m\u001b[0;34m.\u001b[0m\u001b[0m_make_engine\u001b[0m\u001b[0;34m(\u001b[0m\u001b[0mself\u001b[0m\u001b[0;34m.\u001b[0m\u001b[0mengine\u001b[0m\u001b[0;34m)\u001b[0m\u001b[0;34m\u001b[0m\u001b[0;34m\u001b[0m\u001b[0m\n\u001b[0m\u001b[1;32m    812\u001b[0m \u001b[0;34m\u001b[0m\u001b[0m\n\u001b[1;32m    813\u001b[0m     \u001b[0;32mdef\u001b[0m \u001b[0mclose\u001b[0m\u001b[0;34m(\u001b[0m\u001b[0mself\u001b[0m\u001b[0;34m)\u001b[0m\u001b[0;34m:\u001b[0m\u001b[0;34m\u001b[0m\u001b[0;34m\u001b[0m\u001b[0m\n",
            "\u001b[0;32m/usr/local/lib/python3.7/dist-packages/pandas/io/parsers/readers.py\u001b[0m in \u001b[0;36m_make_engine\u001b[0;34m(self, engine)\u001b[0m\n\u001b[1;32m   1038\u001b[0m             )\n\u001b[1;32m   1039\u001b[0m         \u001b[0;31m# error: Too many arguments for \"ParserBase\"\u001b[0m\u001b[0;34m\u001b[0m\u001b[0;34m\u001b[0m\u001b[0;34m\u001b[0m\u001b[0m\n\u001b[0;32m-> 1040\u001b[0;31m         \u001b[0;32mreturn\u001b[0m \u001b[0mmapping\u001b[0m\u001b[0;34m[\u001b[0m\u001b[0mengine\u001b[0m\u001b[0;34m]\u001b[0m\u001b[0;34m(\u001b[0m\u001b[0mself\u001b[0m\u001b[0;34m.\u001b[0m\u001b[0mf\u001b[0m\u001b[0;34m,\u001b[0m \u001b[0;34m**\u001b[0m\u001b[0mself\u001b[0m\u001b[0;34m.\u001b[0m\u001b[0moptions\u001b[0m\u001b[0;34m)\u001b[0m  \u001b[0;31m# type: ignore[call-arg]\u001b[0m\u001b[0;34m\u001b[0m\u001b[0;34m\u001b[0m\u001b[0m\n\u001b[0m\u001b[1;32m   1041\u001b[0m \u001b[0;34m\u001b[0m\u001b[0m\n\u001b[1;32m   1042\u001b[0m     \u001b[0;32mdef\u001b[0m \u001b[0m_failover_to_python\u001b[0m\u001b[0;34m(\u001b[0m\u001b[0mself\u001b[0m\u001b[0;34m)\u001b[0m\u001b[0;34m:\u001b[0m\u001b[0;34m\u001b[0m\u001b[0;34m\u001b[0m\u001b[0m\n",
            "\u001b[0;32m/usr/local/lib/python3.7/dist-packages/pandas/io/parsers/c_parser_wrapper.py\u001b[0m in \u001b[0;36m__init__\u001b[0;34m(self, src, **kwds)\u001b[0m\n\u001b[1;32m     49\u001b[0m \u001b[0;34m\u001b[0m\u001b[0m\n\u001b[1;32m     50\u001b[0m         \u001b[0;31m# open handles\u001b[0m\u001b[0;34m\u001b[0m\u001b[0;34m\u001b[0m\u001b[0;34m\u001b[0m\u001b[0m\n\u001b[0;32m---> 51\u001b[0;31m         \u001b[0mself\u001b[0m\u001b[0;34m.\u001b[0m\u001b[0m_open_handles\u001b[0m\u001b[0;34m(\u001b[0m\u001b[0msrc\u001b[0m\u001b[0;34m,\u001b[0m \u001b[0mkwds\u001b[0m\u001b[0;34m)\u001b[0m\u001b[0;34m\u001b[0m\u001b[0;34m\u001b[0m\u001b[0m\n\u001b[0m\u001b[1;32m     52\u001b[0m         \u001b[0;32massert\u001b[0m \u001b[0mself\u001b[0m\u001b[0;34m.\u001b[0m\u001b[0mhandles\u001b[0m \u001b[0;32mis\u001b[0m \u001b[0;32mnot\u001b[0m \u001b[0;32mNone\u001b[0m\u001b[0;34m\u001b[0m\u001b[0;34m\u001b[0m\u001b[0m\n\u001b[1;32m     53\u001b[0m \u001b[0;34m\u001b[0m\u001b[0m\n",
            "\u001b[0;32m/usr/local/lib/python3.7/dist-packages/pandas/io/parsers/base_parser.py\u001b[0m in \u001b[0;36m_open_handles\u001b[0;34m(self, src, kwds)\u001b[0m\n\u001b[1;32m    227\u001b[0m             \u001b[0mmemory_map\u001b[0m\u001b[0;34m=\u001b[0m\u001b[0mkwds\u001b[0m\u001b[0;34m.\u001b[0m\u001b[0mget\u001b[0m\u001b[0;34m(\u001b[0m\u001b[0;34m\"memory_map\"\u001b[0m\u001b[0;34m,\u001b[0m \u001b[0;32mFalse\u001b[0m\u001b[0;34m)\u001b[0m\u001b[0;34m,\u001b[0m\u001b[0;34m\u001b[0m\u001b[0;34m\u001b[0m\u001b[0m\n\u001b[1;32m    228\u001b[0m             \u001b[0mstorage_options\u001b[0m\u001b[0;34m=\u001b[0m\u001b[0mkwds\u001b[0m\u001b[0;34m.\u001b[0m\u001b[0mget\u001b[0m\u001b[0;34m(\u001b[0m\u001b[0;34m\"storage_options\"\u001b[0m\u001b[0;34m,\u001b[0m \u001b[0;32mNone\u001b[0m\u001b[0;34m)\u001b[0m\u001b[0;34m,\u001b[0m\u001b[0;34m\u001b[0m\u001b[0;34m\u001b[0m\u001b[0m\n\u001b[0;32m--> 229\u001b[0;31m             \u001b[0merrors\u001b[0m\u001b[0;34m=\u001b[0m\u001b[0mkwds\u001b[0m\u001b[0;34m.\u001b[0m\u001b[0mget\u001b[0m\u001b[0;34m(\u001b[0m\u001b[0;34m\"encoding_errors\"\u001b[0m\u001b[0;34m,\u001b[0m \u001b[0;34m\"strict\"\u001b[0m\u001b[0;34m)\u001b[0m\u001b[0;34m,\u001b[0m\u001b[0;34m\u001b[0m\u001b[0;34m\u001b[0m\u001b[0m\n\u001b[0m\u001b[1;32m    230\u001b[0m         )\n\u001b[1;32m    231\u001b[0m \u001b[0;34m\u001b[0m\u001b[0m\n",
            "\u001b[0;32m/usr/local/lib/python3.7/dist-packages/pandas/io/common.py\u001b[0m in \u001b[0;36mget_handle\u001b[0;34m(path_or_buf, mode, encoding, compression, memory_map, is_text, errors, storage_options)\u001b[0m\n\u001b[1;32m    705\u001b[0m                 \u001b[0mencoding\u001b[0m\u001b[0;34m=\u001b[0m\u001b[0mioargs\u001b[0m\u001b[0;34m.\u001b[0m\u001b[0mencoding\u001b[0m\u001b[0;34m,\u001b[0m\u001b[0;34m\u001b[0m\u001b[0;34m\u001b[0m\u001b[0m\n\u001b[1;32m    706\u001b[0m                 \u001b[0merrors\u001b[0m\u001b[0;34m=\u001b[0m\u001b[0merrors\u001b[0m\u001b[0;34m,\u001b[0m\u001b[0;34m\u001b[0m\u001b[0;34m\u001b[0m\u001b[0m\n\u001b[0;32m--> 707\u001b[0;31m                 \u001b[0mnewline\u001b[0m\u001b[0;34m=\u001b[0m\u001b[0;34m\"\"\u001b[0m\u001b[0;34m,\u001b[0m\u001b[0;34m\u001b[0m\u001b[0;34m\u001b[0m\u001b[0m\n\u001b[0m\u001b[1;32m    708\u001b[0m             )\n\u001b[1;32m    709\u001b[0m         \u001b[0;32melse\u001b[0m\u001b[0;34m:\u001b[0m\u001b[0;34m\u001b[0m\u001b[0;34m\u001b[0m\u001b[0m\n",
            "\u001b[0;31mFileNotFoundError\u001b[0m: [Errno 2] No such file or directory: 'heart.csv'"
          ]
        }
      ]
    },
    {
      "cell_type": "markdown",
      "source": [
        "The first 13 columns of data are patient demographics and results of non-invasive tests, which we will use for prediction. The final column gives the actual result of an angiogram (1 if there is >50% luminal narrowing of any major epicardial vessel, or 0 otherwise). We want to use these examples to create a decision tree that will predict coronary artery disease (the last column) given the information in the other columns. \n",
        "\n",
        "In fact, we need this dataset for two different and complementary purposes. Of course, we will use some of the examples in the dataset to train the decision tree. This will set the tree's parameters so that it makes predictions that are as consistent as possible with these examples. But we must also withhold some of the data, so that we can check how well the tree generalizes to examples that it didn't encounter during training. This will give us some indication of how it might perform with new examples in the real world. Run the code below to split the dataset into two groups of examples: a larger group for training and a smaller group for testing. "
      ],
      "metadata": {
        "id": "KxWUV2Litlhh"
      }
    },
    {
      "cell_type": "code",
      "source": [
        "# Here we import some functionality from the scikit-learn package \n",
        "# (https://scikit-learn.org/stable/). \n",
        "from sklearn.model_selection import train_test_split \n",
        "\n",
        "predictors = data.iloc[:, 0:13] # we use the first X columns for input to the tree\n",
        "ground_truth = data.iloc[:, -1] # the last column is \"ground truth\" CAD from the angiogram \n",
        "\n",
        "# Scikit-learn provides a function that splits the data so that we \n",
        "# can use some of it to train the decision tree and the rest to test it.\n",
        "# To avoid long variable names, we'll use the short form \"p\" for predictors \n",
        "# and \"gt\" for ground truth. \n",
        "training_p, testing_p, training_gt, testing_gt = train_test_split(predictors, ground_truth, test_size = 0.20, random_state = 0)"
      ],
      "metadata": {
        "id": "-_jFeqoGj4ow"
      },
      "execution_count": null,
      "outputs": []
    },
    {
      "cell_type": "markdown",
      "source": [
        "We are now ready to train the decision tree, using the predictor columns of the examples we are using for training (the p_train variable) and the correct diagnoses for those examples (the gt_train variable).  "
      ],
      "metadata": {
        "id": "U5jldHs60mVB"
      }
    },
    {
      "cell_type": "code",
      "source": [
        "# We will use decision tree code from scikit-learn, which we import here. \n",
        "from sklearn.tree import DecisionTreeClassifier\n",
        "\n",
        "# To keep the tree simple and interpretable, we will limit the length of each \n",
        "# branch to two decisions, using the argument max_depth=2.\n",
        "dt = DecisionTreeClassifier(max_depth=2)\n",
        "\n",
        "# The variable \"dt\" is now an untrained decision tree. Here we train it on our \n",
        "# training data. \n",
        "dt.fit(training_p, training_gt)\n",
        "\n",
        "# The tree is trained. Now we use it to generate predictions from the held-out \n",
        "# test data. \n",
        "predictions = dt.predict(testing_p)"
      ],
      "metadata": {
        "id": "q51N2vdkVptu"
      },
      "execution_count": null,
      "outputs": []
    },
    {
      "cell_type": "markdown",
      "source": [
        "The suspense is killing us. How accurate were the predictions we just generated? There are several ways to consider that, but one very useful way is to view a \"confusion matrix\". This will show us how many of the test examples fell into each of the four possible categories: heart disease that was accurately predicted as such, lack of heart disease that was accurately predicted as such, and errors in each direction. "
      ],
      "metadata": {
        "id": "ErhLjLmh4JL_"
      }
    },
    {
      "cell_type": "code",
      "source": [
        "from sklearn import metrics # we're using scikit-learn again\n",
        "\n",
        "# This line counts the numbers of test examples in each correct and incorrect category. \n",
        "confusion_matrix = metrics.confusion_matrix(testing_gt, predictions)\n",
        "\n",
        "# These two lines show the result graphically. \n",
        "display = metrics.ConfusionMatrixDisplay(confusion_matrix, display_labels=['no heart disease','heart disease'])\n",
        "display.plot()"
      ],
      "metadata": {
        "colab": {
          "base_uri": "https://localhost:8080/",
          "height": 296
        },
        "id": "Pz0fqmBdVz67",
        "outputId": "de64e8d1-96d8-44a0-d5fb-4a5d184f4c36"
      },
      "execution_count": null,
      "outputs": [
        {
          "output_type": "execute_result",
          "data": {
            "text/plain": [
              "<sklearn.metrics._plot.confusion_matrix.ConfusionMatrixDisplay at 0x7f080b41a9d0>"
            ]
          },
          "metadata": {},
          "execution_count": 15
        },
        {
          "output_type": "display_data",
          "data": {
            "image/png": "[encoded data removed]",
            "text/plain": [
              "<Figure size 432x288 with 2 Axes>"
            ]
          },
          "metadata": {
            "needs_background": "light"
          }
        }
      ]
    },
    {
      "cell_type": "markdown",
      "source": [
        "Among the 34 people who actually had heart disease, the decision tree correctly predicted heart disease for 28 of them. Out of the 27 people who didn't, the model was right about 20. Among the 61 examples in total that we have used for testing the decision tree, the decision tree made 13 errors. \n",
        "\n",
        "That's not bad overall, but the six false negatives are dangerous. Apart from making the model more accurate, there are a couple of ways to reduce the associated risk. One is to reduce the threshold for a positive prediction. This would increase the number false positives (increasing resource usage) but reduce the false negatives (reducing the risk of missing something important). Another approach would be to make the decision tree output a probability instead of a simple \"yes\" or \"no\" prediction.\n",
        "\n",
        "An advantage of decision trees over more complex machine-learning approaches is that you can inspect them to see how they make decisions. We have made this especially practical by limiting the tree to have a depth of two - a very simple structure. Let's have a look. "
      ],
      "metadata": {
        "id": "GoGZ6WD16H30"
      }
    },
    {
      "cell_type": "code",
      "source": [
        "from sklearn.tree import plot_tree\n",
        "\n",
        "plot_tree(dt, class_names=('None', 'Heart disease'), feature_names=list(predictors), impurity=False)"
      ],
      "metadata": {
        "colab": {
          "base_uri": "https://localhost:8080/",
          "height": 370
        },
        "id": "y431HUj-V5pi",
        "outputId": "b7fb629e-cfa1-470e-e6cc-d0217565a6d0"
      },
      "execution_count": null,
      "outputs": [
        {
          "output_type": "execute_result",
          "data": {
            "text/plain": [
              "[Text(0.5, 0.8333333333333334, 'cp <= 0.5\\nsamples = 242\\nvalue = [111, 131]\\nclass = Heart disease'),\n",
              " Text(0.25, 0.5, 'ca <= 0.5\\nsamples = 117\\nvalue = [84, 33]\\nclass = None'),\n",
              " Text(0.125, 0.16666666666666666, 'samples = 54\\nvalue = [24, 30]\\nclass = Heart disease'),\n",
              " Text(0.375, 0.16666666666666666, 'samples = 63\\nvalue = [60, 3]\\nclass = None'),\n",
              " Text(0.75, 0.5, 'sex <= 0.5\\nsamples = 125\\nvalue = [27, 98]\\nclass = Heart disease'),\n",
              " Text(0.625, 0.16666666666666666, 'samples = 47\\nvalue = [1, 46]\\nclass = Heart disease'),\n",
              " Text(0.875, 0.16666666666666666, 'samples = 78\\nvalue = [26, 52]\\nclass = Heart disease')]"
            ]
          },
          "metadata": {},
          "execution_count": 16
        },
        {
          "output_type": "display_data",
          "data": {
            "image/png": "[encoded data removed]",
            "text/plain": [
              "<Figure size 432x288 with 1 Axes>"
            ]
          },
          "metadata": {
            "needs_background": "light"
          }
        }
      ]
    },
    {
      "cell_type": "markdown",
      "source": [
        "The arrows coming from each box indicate alternate decisions based on the value of a predictor. \n",
        "\n",
        "`Let's look at the top box first. The top line of text in this box describes the first decision the tree makes: if the patient's angina code is 0 (no angina) the tree takes the left branch. The second line shows the number of examples at that point in the tree (the 242 training examples). The third gives the numbers in each category (111 without heart disease and 131 with). The fourth shows the majority category at that point in the tree. \n",
        "\n",
        "Inspecting this decision tree allows us to see exactly how it has learned to make predictions. For example, if the patient has angina, then the decision tree considers simply whether the patient is male. If so, it predicts heart disease. \n",
        "\n",
        "Curiously, if the patient does not have angina, then the decision tree will only predict heart disease if the max heart rate achieved in a Thallium stress test is high. Does a high max heart rate suggest heart disease? No, but all the people in this dataset have had a thallium stress test. Those with high maximum heart rates tend to be younger and healthier. The presence of this test in such a patient's chart is relevant. Inspecting the decision tree in this way can help us assess its value and its limitations. \n",
        "\n",
        "[TODO: discuss reporting probabilities and problem with false negatives] \n",
        "\n",
        "Unfortunately, there tends to be a trade-off between classifiers' scrutability and their performance. Let's consider an alternative approach that tends to be more accurate, but is not easily inspected. Specifically, we will use an ensemble of decision trees called a random forest. In a random forest, each tree is forced to be slightly different, so that its predictions do not simply repeat the predictions of other trees. The trees then vote, to produce a more accurate prediction together. "
      ],
      "metadata": {
        "id": "BDLERI5r71_x"
      }
    },
    {
      "cell_type": "code",
      "source": [
        "from sklearn.ensemble import RandomForestClassifier\n",
        "\n",
        "# comment on parameters \n",
        "rf = RandomForestClassifier(n_estimators=300, max_depth=4)\n",
        "rf.fit(training_p, training_gt)\n",
        "predictions = rf.predict(testing_p)\n",
        "confusion_matrix = metrics.confusion_matrix(predictions, testing_gt)\n",
        "\n",
        "display = metrics.ConfusionMatrixDisplay(confusion_matrix, display_labels=['no heart disease','heart disease'])\n",
        "display.plot()"
      ],
      "metadata": {
        "colab": {
          "base_uri": "https://localhost:8080/",
          "height": 296
        },
        "id": "mvEuVpTDm9dL",
        "outputId": "913c67d8-e47c-414b-fea8-b1714f6ca723"
      },
      "execution_count": null,
      "outputs": [
        {
          "output_type": "execute_result",
          "data": {
            "text/plain": [
              "<sklearn.metrics._plot.confusion_matrix.ConfusionMatrixDisplay at 0x7f4204349550>"
            ]
          },
          "metadata": {},
          "execution_count": 29
        },
        {
          "output_type": "display_data",
          "data": {
            "image/png": "[encoded data removed]",
            "text/plain": [
              "<Figure size 432x288 with 2 Axes>"
            ]
          },
          "metadata": {
            "needs_background": "light"
          }
        }
      ]
    },
    {
      "cell_type": "markdown",
      "source": [
        "If you run the above code several times, you may notice that the performance is different each time. This is due to the random elements of the random forest. Sometimes the random forest does better than our simple decision tree, but not by a wide margin. To get substantially better performance, we would need more examples and/or more information about each patient. Then the more powerful random-forest method would have more to work with. \n"
      ],
      "metadata": {
        "id": "wlTUSaDSIf6U"
      }
    }
  ]
}